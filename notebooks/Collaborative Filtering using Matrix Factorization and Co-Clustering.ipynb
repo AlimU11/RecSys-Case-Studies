{
 "cells": [
  {
   "cell_type": "markdown",
   "id": "0793467e-50c6-404b-b3ef-ab5ef509b41e",
   "metadata": {},
   "source": [
    "## Collaborative filtering with SVD, NMF and Co-Clustering"
   ]
  },
  {
   "cell_type": "code",
   "execution_count": 1,
   "id": "b95d7220-a251-4ce5-b027-9685eda9a687",
   "metadata": {
    "execution": {
     "iopub.execute_input": "2023-06-12T06:06:45.882019Z",
     "iopub.status.busy": "2023-06-12T06:06:45.881019Z",
     "iopub.status.idle": "2023-06-12T06:06:46.319611Z",
     "shell.execute_reply": "2023-06-12T06:06:46.319611Z",
     "shell.execute_reply.started": "2023-06-12T06:06:45.882019Z"
    },
    "tags": []
   },
   "outputs": [],
   "source": [
    "import random\n",
    "\n",
    "import numpy as np\n",
    "import pandas as pd\n",
    "from surprise import NMF, SVD, CoClustering, Dataset, Reader, SVDpp, accuracy\n",
    "from surprise.model_selection.split import train_test_split\n",
    "from surprise.model_selection.validation import cross_validate"
   ]
  },
  {
   "cell_type": "markdown",
   "id": "d546b9a3-7895-4c44-ad94-51b2dfde1cb1",
   "metadata": {},
   "source": [
    "## Preprocess"
   ]
  },
  {
   "cell_type": "markdown",
   "id": "804b2aea-9c6b-4ab5-bf68-0c9bed4ae0f7",
   "metadata": {},
   "source": [
    "using https://github.com/Apress/applied-recommender-systems-python/tree/main/Data"
   ]
  },
  {
   "cell_type": "code",
   "execution_count": 2,
   "id": "ffbccbad-765a-4c53-b895-32ad47697985",
   "metadata": {
    "execution": {
     "iopub.execute_input": "2023-06-12T06:06:46.321612Z",
     "iopub.status.busy": "2023-06-12T06:06:46.321612Z",
     "iopub.status.idle": "2023-06-12T06:07:23.902915Z",
     "shell.execute_reply": "2023-06-12T06:07:23.902915Z",
     "shell.execute_reply.started": "2023-06-12T06:06:46.321612Z"
    },
    "tags": []
   },
   "outputs": [],
   "source": [
    "df = pd.read_excel(\"../data/Rec_sys_data.xlsx\")"
   ]
  },
  {
   "cell_type": "code",
   "execution_count": 3,
   "id": "ce7672d2-560f-45f7-86bb-1c8aa4c3f370",
   "metadata": {
    "execution": {
     "iopub.execute_input": "2023-06-12T06:07:23.904913Z",
     "iopub.status.busy": "2023-06-12T06:07:23.903913Z",
     "iopub.status.idle": "2023-06-12T06:07:23.967915Z",
     "shell.execute_reply": "2023-06-12T06:07:23.966921Z",
     "shell.execute_reply.started": "2023-06-12T06:07:23.904913Z"
    },
    "tags": []
   },
   "outputs": [
    {
     "data": {
      "text/html": [
       "<div>\n",
       "<style scoped>\n",
       "    .dataframe tbody tr th:only-of-type {\n",
       "        vertical-align: middle;\n",
       "    }\n",
       "\n",
       "    .dataframe tbody tr th {\n",
       "        vertical-align: top;\n",
       "    }\n",
       "\n",
       "    .dataframe thead th {\n",
       "        text-align: right;\n",
       "    }\n",
       "</style>\n",
       "<table border=\"1\" class=\"dataframe\">\n",
       "  <thead>\n",
       "    <tr style=\"text-align: right;\">\n",
       "      <th></th>\n",
       "      <th>InvoiceNo</th>\n",
       "      <th>StockCode</th>\n",
       "      <th>Quantity</th>\n",
       "      <th>InvoiceDate</th>\n",
       "      <th>DeliveryDate</th>\n",
       "      <th>Discount%</th>\n",
       "      <th>ShipMode</th>\n",
       "      <th>ShippingCost</th>\n",
       "      <th>CustomerID</th>\n",
       "    </tr>\n",
       "  </thead>\n",
       "  <tbody>\n",
       "    <tr>\n",
       "      <th>0</th>\n",
       "      <td>536365</td>\n",
       "      <td>84029E</td>\n",
       "      <td>6</td>\n",
       "      <td>2010-12-01 08:26:00</td>\n",
       "      <td>2010-12-02 08:26:00</td>\n",
       "      <td>0.20</td>\n",
       "      <td>ExpressAir</td>\n",
       "      <td>30.12</td>\n",
       "      <td>17850</td>\n",
       "    </tr>\n",
       "    <tr>\n",
       "      <th>1</th>\n",
       "      <td>536365</td>\n",
       "      <td>71053</td>\n",
       "      <td>6</td>\n",
       "      <td>2010-12-01 08:26:00</td>\n",
       "      <td>2010-12-02 08:26:00</td>\n",
       "      <td>0.21</td>\n",
       "      <td>ExpressAir</td>\n",
       "      <td>30.12</td>\n",
       "      <td>17850</td>\n",
       "    </tr>\n",
       "    <tr>\n",
       "      <th>2</th>\n",
       "      <td>536365</td>\n",
       "      <td>21730</td>\n",
       "      <td>6</td>\n",
       "      <td>2010-12-01 08:26:00</td>\n",
       "      <td>2010-12-03 08:26:00</td>\n",
       "      <td>0.56</td>\n",
       "      <td>Regular Air</td>\n",
       "      <td>15.22</td>\n",
       "      <td>17850</td>\n",
       "    </tr>\n",
       "    <tr>\n",
       "      <th>3</th>\n",
       "      <td>536365</td>\n",
       "      <td>84406B</td>\n",
       "      <td>8</td>\n",
       "      <td>2010-12-01 08:26:00</td>\n",
       "      <td>2010-12-03 08:26:00</td>\n",
       "      <td>0.30</td>\n",
       "      <td>Regular Air</td>\n",
       "      <td>15.22</td>\n",
       "      <td>17850</td>\n",
       "    </tr>\n",
       "    <tr>\n",
       "      <th>4</th>\n",
       "      <td>536365</td>\n",
       "      <td>22752</td>\n",
       "      <td>2</td>\n",
       "      <td>2010-12-01 08:26:00</td>\n",
       "      <td>2010-12-04 08:26:00</td>\n",
       "      <td>0.57</td>\n",
       "      <td>Delivery Truck</td>\n",
       "      <td>5.81</td>\n",
       "      <td>17850</td>\n",
       "    </tr>\n",
       "    <tr>\n",
       "      <th>...</th>\n",
       "      <td>...</td>\n",
       "      <td>...</td>\n",
       "      <td>...</td>\n",
       "      <td>...</td>\n",
       "      <td>...</td>\n",
       "      <td>...</td>\n",
       "      <td>...</td>\n",
       "      <td>...</td>\n",
       "      <td>...</td>\n",
       "    </tr>\n",
       "    <tr>\n",
       "      <th>272399</th>\n",
       "      <td>569629</td>\n",
       "      <td>23399</td>\n",
       "      <td>12</td>\n",
       "      <td>2011-10-05 11:37:00</td>\n",
       "      <td>2011-10-08 11:37:00</td>\n",
       "      <td>0.11</td>\n",
       "      <td>Delivery Truck</td>\n",
       "      <td>5.81</td>\n",
       "      <td>15249</td>\n",
       "    </tr>\n",
       "    <tr>\n",
       "      <th>272400</th>\n",
       "      <td>569629</td>\n",
       "      <td>22727</td>\n",
       "      <td>4</td>\n",
       "      <td>2011-10-05 11:37:00</td>\n",
       "      <td>2011-10-08 11:37:00</td>\n",
       "      <td>0.26</td>\n",
       "      <td>Delivery Truck</td>\n",
       "      <td>5.81</td>\n",
       "      <td>15249</td>\n",
       "    </tr>\n",
       "    <tr>\n",
       "      <th>272401</th>\n",
       "      <td>569629</td>\n",
       "      <td>23434</td>\n",
       "      <td>12</td>\n",
       "      <td>2011-10-05 11:37:00</td>\n",
       "      <td>2011-10-08 11:37:00</td>\n",
       "      <td>0.42</td>\n",
       "      <td>Delivery Truck</td>\n",
       "      <td>5.81</td>\n",
       "      <td>15249</td>\n",
       "    </tr>\n",
       "    <tr>\n",
       "      <th>272402</th>\n",
       "      <td>569629</td>\n",
       "      <td>23340</td>\n",
       "      <td>12</td>\n",
       "      <td>2011-10-05 11:37:00</td>\n",
       "      <td>2011-10-07 11:37:00</td>\n",
       "      <td>0.08</td>\n",
       "      <td>Regular Air</td>\n",
       "      <td>15.22</td>\n",
       "      <td>15249</td>\n",
       "    </tr>\n",
       "    <tr>\n",
       "      <th>272403</th>\n",
       "      <td>569629</td>\n",
       "      <td>23209</td>\n",
       "      <td>10</td>\n",
       "      <td>2011-10-05 11:37:00</td>\n",
       "      <td>2011-10-08 11:37:00</td>\n",
       "      <td>0.25</td>\n",
       "      <td>Delivery Truck</td>\n",
       "      <td>5.81</td>\n",
       "      <td>15249</td>\n",
       "    </tr>\n",
       "  </tbody>\n",
       "</table>\n",
       "<p>272404 rows × 9 columns</p>\n",
       "</div>"
      ],
      "text/plain": [
       "        InvoiceNo StockCode  Quantity         InvoiceDate        DeliveryDate   \n",
       "0          536365    84029E         6 2010-12-01 08:26:00 2010-12-02 08:26:00  \\\n",
       "1          536365     71053         6 2010-12-01 08:26:00 2010-12-02 08:26:00   \n",
       "2          536365     21730         6 2010-12-01 08:26:00 2010-12-03 08:26:00   \n",
       "3          536365    84406B         8 2010-12-01 08:26:00 2010-12-03 08:26:00   \n",
       "4          536365     22752         2 2010-12-01 08:26:00 2010-12-04 08:26:00   \n",
       "...           ...       ...       ...                 ...                 ...   \n",
       "272399     569629     23399        12 2011-10-05 11:37:00 2011-10-08 11:37:00   \n",
       "272400     569629     22727         4 2011-10-05 11:37:00 2011-10-08 11:37:00   \n",
       "272401     569629     23434        12 2011-10-05 11:37:00 2011-10-08 11:37:00   \n",
       "272402     569629     23340        12 2011-10-05 11:37:00 2011-10-07 11:37:00   \n",
       "272403     569629     23209        10 2011-10-05 11:37:00 2011-10-08 11:37:00   \n",
       "\n",
       "        Discount%        ShipMode  ShippingCost  CustomerID  \n",
       "0            0.20      ExpressAir         30.12       17850  \n",
       "1            0.21      ExpressAir         30.12       17850  \n",
       "2            0.56     Regular Air         15.22       17850  \n",
       "3            0.30     Regular Air         15.22       17850  \n",
       "4            0.57  Delivery Truck          5.81       17850  \n",
       "...           ...             ...           ...         ...  \n",
       "272399       0.11  Delivery Truck          5.81       15249  \n",
       "272400       0.26  Delivery Truck          5.81       15249  \n",
       "272401       0.42  Delivery Truck          5.81       15249  \n",
       "272402       0.08     Regular Air         15.22       15249  \n",
       "272403       0.25  Delivery Truck          5.81       15249  \n",
       "\n",
       "[272404 rows x 9 columns]"
      ]
     },
     "execution_count": 3,
     "metadata": {},
     "output_type": "execute_result"
    }
   ],
   "source": [
    "df"
   ]
  },
  {
   "cell_type": "code",
   "execution_count": 4,
   "id": "a6f5fee3-5104-40e2-86ce-7953a3f437d8",
   "metadata": {
    "execution": {
     "iopub.execute_input": "2023-06-12T06:07:23.968914Z",
     "iopub.status.busy": "2023-06-12T06:07:23.967915Z",
     "iopub.status.idle": "2023-06-12T06:07:25.337916Z",
     "shell.execute_reply": "2023-06-12T06:07:25.336914Z",
     "shell.execute_reply.started": "2023-06-12T06:07:23.968914Z"
    },
    "tags": []
   },
   "outputs": [],
   "source": [
    "item_purchase_matrix = pd.pivot_table(\n",
    "    df, values=\"Quantity\", index=\"StockCode\", columns=\"CustomerID\", fill_value=0.0\n",
    ").astype(float)"
   ]
  },
  {
   "cell_type": "code",
   "execution_count": 5,
   "id": "ebdac3c3-91e3-4796-84ab-e701701104c8",
   "metadata": {
    "execution": {
     "iopub.execute_input": "2023-06-12T06:07:25.338914Z",
     "iopub.status.busy": "2023-06-12T06:07:25.337916Z",
     "iopub.status.idle": "2023-06-12T06:07:25.381919Z",
     "shell.execute_reply": "2023-06-12T06:07:25.381919Z",
     "shell.execute_reply.started": "2023-06-12T06:07:25.338914Z"
    },
    "tags": []
   },
   "outputs": [
    {
     "data": {
      "text/html": [
       "<div>\n",
       "<style scoped>\n",
       "    .dataframe tbody tr th:only-of-type {\n",
       "        vertical-align: middle;\n",
       "    }\n",
       "\n",
       "    .dataframe tbody tr th {\n",
       "        vertical-align: top;\n",
       "    }\n",
       "\n",
       "    .dataframe thead th {\n",
       "        text-align: right;\n",
       "    }\n",
       "</style>\n",
       "<table border=\"1\" class=\"dataframe\">\n",
       "  <thead>\n",
       "    <tr style=\"text-align: right;\">\n",
       "      <th>CustomerID</th>\n",
       "      <th>12346</th>\n",
       "      <th>12347</th>\n",
       "      <th>12348</th>\n",
       "      <th>12350</th>\n",
       "      <th>12352</th>\n",
       "      <th>12353</th>\n",
       "      <th>12354</th>\n",
       "      <th>12355</th>\n",
       "      <th>12356</th>\n",
       "      <th>12358</th>\n",
       "      <th>...</th>\n",
       "      <th>18269</th>\n",
       "      <th>18270</th>\n",
       "      <th>18272</th>\n",
       "      <th>18273</th>\n",
       "      <th>18278</th>\n",
       "      <th>18280</th>\n",
       "      <th>18281</th>\n",
       "      <th>18282</th>\n",
       "      <th>18283</th>\n",
       "      <th>18287</th>\n",
       "    </tr>\n",
       "    <tr>\n",
       "      <th>StockCode</th>\n",
       "      <th></th>\n",
       "      <th></th>\n",
       "      <th></th>\n",
       "      <th></th>\n",
       "      <th></th>\n",
       "      <th></th>\n",
       "      <th></th>\n",
       "      <th></th>\n",
       "      <th></th>\n",
       "      <th></th>\n",
       "      <th></th>\n",
       "      <th></th>\n",
       "      <th></th>\n",
       "      <th></th>\n",
       "      <th></th>\n",
       "      <th></th>\n",
       "      <th></th>\n",
       "      <th></th>\n",
       "      <th></th>\n",
       "      <th></th>\n",
       "      <th></th>\n",
       "    </tr>\n",
       "  </thead>\n",
       "  <tbody>\n",
       "    <tr>\n",
       "      <th>10002</th>\n",
       "      <td>0.0</td>\n",
       "      <td>0.0</td>\n",
       "      <td>0.00</td>\n",
       "      <td>0.0</td>\n",
       "      <td>0.00</td>\n",
       "      <td>0.0</td>\n",
       "      <td>0.0</td>\n",
       "      <td>0.0</td>\n",
       "      <td>0.0</td>\n",
       "      <td>0.0</td>\n",
       "      <td>...</td>\n",
       "      <td>0.0</td>\n",
       "      <td>0.0</td>\n",
       "      <td>0.0</td>\n",
       "      <td>0.0</td>\n",
       "      <td>0.0</td>\n",
       "      <td>0.0</td>\n",
       "      <td>0.0</td>\n",
       "      <td>0.0</td>\n",
       "      <td>0.0</td>\n",
       "      <td>0.0</td>\n",
       "    </tr>\n",
       "    <tr>\n",
       "      <th>10080</th>\n",
       "      <td>0.0</td>\n",
       "      <td>0.0</td>\n",
       "      <td>0.00</td>\n",
       "      <td>0.0</td>\n",
       "      <td>0.00</td>\n",
       "      <td>0.0</td>\n",
       "      <td>0.0</td>\n",
       "      <td>0.0</td>\n",
       "      <td>0.0</td>\n",
       "      <td>0.0</td>\n",
       "      <td>...</td>\n",
       "      <td>0.0</td>\n",
       "      <td>0.0</td>\n",
       "      <td>0.0</td>\n",
       "      <td>0.0</td>\n",
       "      <td>0.0</td>\n",
       "      <td>0.0</td>\n",
       "      <td>0.0</td>\n",
       "      <td>0.0</td>\n",
       "      <td>0.0</td>\n",
       "      <td>0.0</td>\n",
       "    </tr>\n",
       "    <tr>\n",
       "      <th>10120</th>\n",
       "      <td>0.0</td>\n",
       "      <td>0.0</td>\n",
       "      <td>0.00</td>\n",
       "      <td>0.0</td>\n",
       "      <td>0.00</td>\n",
       "      <td>0.0</td>\n",
       "      <td>0.0</td>\n",
       "      <td>0.0</td>\n",
       "      <td>0.0</td>\n",
       "      <td>0.0</td>\n",
       "      <td>...</td>\n",
       "      <td>0.0</td>\n",
       "      <td>0.0</td>\n",
       "      <td>0.0</td>\n",
       "      <td>0.0</td>\n",
       "      <td>0.0</td>\n",
       "      <td>0.0</td>\n",
       "      <td>0.0</td>\n",
       "      <td>0.0</td>\n",
       "      <td>0.0</td>\n",
       "      <td>0.0</td>\n",
       "    </tr>\n",
       "    <tr>\n",
       "      <th>10125</th>\n",
       "      <td>0.0</td>\n",
       "      <td>0.0</td>\n",
       "      <td>0.00</td>\n",
       "      <td>0.0</td>\n",
       "      <td>0.00</td>\n",
       "      <td>0.0</td>\n",
       "      <td>0.0</td>\n",
       "      <td>0.0</td>\n",
       "      <td>0.0</td>\n",
       "      <td>0.0</td>\n",
       "      <td>...</td>\n",
       "      <td>0.0</td>\n",
       "      <td>0.0</td>\n",
       "      <td>0.0</td>\n",
       "      <td>0.0</td>\n",
       "      <td>0.0</td>\n",
       "      <td>0.0</td>\n",
       "      <td>0.0</td>\n",
       "      <td>0.0</td>\n",
       "      <td>0.0</td>\n",
       "      <td>0.0</td>\n",
       "    </tr>\n",
       "    <tr>\n",
       "      <th>10133</th>\n",
       "      <td>0.0</td>\n",
       "      <td>0.0</td>\n",
       "      <td>0.00</td>\n",
       "      <td>0.0</td>\n",
       "      <td>0.00</td>\n",
       "      <td>0.0</td>\n",
       "      <td>0.0</td>\n",
       "      <td>0.0</td>\n",
       "      <td>0.0</td>\n",
       "      <td>0.0</td>\n",
       "      <td>...</td>\n",
       "      <td>0.0</td>\n",
       "      <td>0.0</td>\n",
       "      <td>0.0</td>\n",
       "      <td>0.0</td>\n",
       "      <td>0.0</td>\n",
       "      <td>0.0</td>\n",
       "      <td>0.0</td>\n",
       "      <td>0.0</td>\n",
       "      <td>0.0</td>\n",
       "      <td>0.0</td>\n",
       "    </tr>\n",
       "    <tr>\n",
       "      <th>...</th>\n",
       "      <td>...</td>\n",
       "      <td>...</td>\n",
       "      <td>...</td>\n",
       "      <td>...</td>\n",
       "      <td>...</td>\n",
       "      <td>...</td>\n",
       "      <td>...</td>\n",
       "      <td>...</td>\n",
       "      <td>...</td>\n",
       "      <td>...</td>\n",
       "      <td>...</td>\n",
       "      <td>...</td>\n",
       "      <td>...</td>\n",
       "      <td>...</td>\n",
       "      <td>...</td>\n",
       "      <td>...</td>\n",
       "      <td>...</td>\n",
       "      <td>...</td>\n",
       "      <td>...</td>\n",
       "      <td>...</td>\n",
       "      <td>...</td>\n",
       "    </tr>\n",
       "    <tr>\n",
       "      <th>C2</th>\n",
       "      <td>0.0</td>\n",
       "      <td>0.0</td>\n",
       "      <td>0.00</td>\n",
       "      <td>0.0</td>\n",
       "      <td>0.00</td>\n",
       "      <td>0.0</td>\n",
       "      <td>0.0</td>\n",
       "      <td>0.0</td>\n",
       "      <td>0.0</td>\n",
       "      <td>0.0</td>\n",
       "      <td>...</td>\n",
       "      <td>0.0</td>\n",
       "      <td>0.0</td>\n",
       "      <td>0.0</td>\n",
       "      <td>0.0</td>\n",
       "      <td>0.0</td>\n",
       "      <td>0.0</td>\n",
       "      <td>0.0</td>\n",
       "      <td>0.0</td>\n",
       "      <td>0.0</td>\n",
       "      <td>0.0</td>\n",
       "    </tr>\n",
       "    <tr>\n",
       "      <th>DOT</th>\n",
       "      <td>0.0</td>\n",
       "      <td>0.0</td>\n",
       "      <td>0.00</td>\n",
       "      <td>0.0</td>\n",
       "      <td>0.00</td>\n",
       "      <td>0.0</td>\n",
       "      <td>0.0</td>\n",
       "      <td>0.0</td>\n",
       "      <td>0.0</td>\n",
       "      <td>0.0</td>\n",
       "      <td>...</td>\n",
       "      <td>0.0</td>\n",
       "      <td>0.0</td>\n",
       "      <td>0.0</td>\n",
       "      <td>0.0</td>\n",
       "      <td>0.0</td>\n",
       "      <td>0.0</td>\n",
       "      <td>0.0</td>\n",
       "      <td>0.0</td>\n",
       "      <td>0.0</td>\n",
       "      <td>0.0</td>\n",
       "    </tr>\n",
       "    <tr>\n",
       "      <th>M</th>\n",
       "      <td>0.0</td>\n",
       "      <td>0.0</td>\n",
       "      <td>0.00</td>\n",
       "      <td>0.0</td>\n",
       "      <td>1.00</td>\n",
       "      <td>0.0</td>\n",
       "      <td>0.0</td>\n",
       "      <td>0.0</td>\n",
       "      <td>0.0</td>\n",
       "      <td>0.0</td>\n",
       "      <td>...</td>\n",
       "      <td>0.0</td>\n",
       "      <td>0.0</td>\n",
       "      <td>0.0</td>\n",
       "      <td>0.0</td>\n",
       "      <td>0.0</td>\n",
       "      <td>0.0</td>\n",
       "      <td>0.0</td>\n",
       "      <td>0.0</td>\n",
       "      <td>1.0</td>\n",
       "      <td>0.0</td>\n",
       "    </tr>\n",
       "    <tr>\n",
       "      <th>PADS</th>\n",
       "      <td>0.0</td>\n",
       "      <td>0.0</td>\n",
       "      <td>0.00</td>\n",
       "      <td>0.0</td>\n",
       "      <td>0.00</td>\n",
       "      <td>0.0</td>\n",
       "      <td>0.0</td>\n",
       "      <td>0.0</td>\n",
       "      <td>0.0</td>\n",
       "      <td>0.0</td>\n",
       "      <td>...</td>\n",
       "      <td>0.0</td>\n",
       "      <td>0.0</td>\n",
       "      <td>0.0</td>\n",
       "      <td>0.0</td>\n",
       "      <td>0.0</td>\n",
       "      <td>0.0</td>\n",
       "      <td>0.0</td>\n",
       "      <td>0.0</td>\n",
       "      <td>0.0</td>\n",
       "      <td>0.0</td>\n",
       "    </tr>\n",
       "    <tr>\n",
       "      <th>POST</th>\n",
       "      <td>0.0</td>\n",
       "      <td>0.0</td>\n",
       "      <td>2.25</td>\n",
       "      <td>1.0</td>\n",
       "      <td>1.25</td>\n",
       "      <td>0.0</td>\n",
       "      <td>0.0</td>\n",
       "      <td>0.0</td>\n",
       "      <td>18.0</td>\n",
       "      <td>2.0</td>\n",
       "      <td>...</td>\n",
       "      <td>0.0</td>\n",
       "      <td>0.0</td>\n",
       "      <td>0.0</td>\n",
       "      <td>0.0</td>\n",
       "      <td>0.0</td>\n",
       "      <td>0.0</td>\n",
       "      <td>0.0</td>\n",
       "      <td>0.0</td>\n",
       "      <td>0.0</td>\n",
       "      <td>0.0</td>\n",
       "    </tr>\n",
       "  </tbody>\n",
       "</table>\n",
       "<p>3538 rows × 3647 columns</p>\n",
       "</div>"
      ],
      "text/plain": [
       "CustomerID  12346  12347  12348  12350  12352  12353  12354  12355  12356   \n",
       "StockCode                                                                   \n",
       "10002         0.0    0.0   0.00    0.0   0.00    0.0    0.0    0.0    0.0  \\\n",
       "10080         0.0    0.0   0.00    0.0   0.00    0.0    0.0    0.0    0.0   \n",
       "10120         0.0    0.0   0.00    0.0   0.00    0.0    0.0    0.0    0.0   \n",
       "10125         0.0    0.0   0.00    0.0   0.00    0.0    0.0    0.0    0.0   \n",
       "10133         0.0    0.0   0.00    0.0   0.00    0.0    0.0    0.0    0.0   \n",
       "...           ...    ...    ...    ...    ...    ...    ...    ...    ...   \n",
       "C2            0.0    0.0   0.00    0.0   0.00    0.0    0.0    0.0    0.0   \n",
       "DOT           0.0    0.0   0.00    0.0   0.00    0.0    0.0    0.0    0.0   \n",
       "M             0.0    0.0   0.00    0.0   1.00    0.0    0.0    0.0    0.0   \n",
       "PADS          0.0    0.0   0.00    0.0   0.00    0.0    0.0    0.0    0.0   \n",
       "POST          0.0    0.0   2.25    1.0   1.25    0.0    0.0    0.0   18.0   \n",
       "\n",
       "CustomerID  12358  ...  18269  18270  18272  18273  18278  18280  18281   \n",
       "StockCode          ...                                                    \n",
       "10002         0.0  ...    0.0    0.0    0.0    0.0    0.0    0.0    0.0  \\\n",
       "10080         0.0  ...    0.0    0.0    0.0    0.0    0.0    0.0    0.0   \n",
       "10120         0.0  ...    0.0    0.0    0.0    0.0    0.0    0.0    0.0   \n",
       "10125         0.0  ...    0.0    0.0    0.0    0.0    0.0    0.0    0.0   \n",
       "10133         0.0  ...    0.0    0.0    0.0    0.0    0.0    0.0    0.0   \n",
       "...           ...  ...    ...    ...    ...    ...    ...    ...    ...   \n",
       "C2            0.0  ...    0.0    0.0    0.0    0.0    0.0    0.0    0.0   \n",
       "DOT           0.0  ...    0.0    0.0    0.0    0.0    0.0    0.0    0.0   \n",
       "M             0.0  ...    0.0    0.0    0.0    0.0    0.0    0.0    0.0   \n",
       "PADS          0.0  ...    0.0    0.0    0.0    0.0    0.0    0.0    0.0   \n",
       "POST          2.0  ...    0.0    0.0    0.0    0.0    0.0    0.0    0.0   \n",
       "\n",
       "CustomerID  18282  18283  18287  \n",
       "StockCode                        \n",
       "10002         0.0    0.0    0.0  \n",
       "10080         0.0    0.0    0.0  \n",
       "10120         0.0    0.0    0.0  \n",
       "10125         0.0    0.0    0.0  \n",
       "10133         0.0    0.0    0.0  \n",
       "...           ...    ...    ...  \n",
       "C2            0.0    0.0    0.0  \n",
       "DOT           0.0    0.0    0.0  \n",
       "M             0.0    1.0    0.0  \n",
       "PADS          0.0    0.0    0.0  \n",
       "POST          0.0    0.0    0.0  \n",
       "\n",
       "[3538 rows x 3647 columns]"
      ]
     },
     "execution_count": 5,
     "metadata": {},
     "output_type": "execute_result"
    }
   ],
   "source": [
    "item_purchase_matrix"
   ]
  },
  {
   "cell_type": "code",
   "execution_count": 6,
   "id": "588a8f65-8b66-4c32-9654-8ee6da25e811",
   "metadata": {
    "execution": {
     "iopub.execute_input": "2023-06-12T06:07:25.383914Z",
     "iopub.status.busy": "2023-06-12T06:07:25.383819Z",
     "iopub.status.idle": "2023-06-12T06:07:25.965922Z",
     "shell.execute_reply": "2023-06-12T06:07:25.965922Z",
     "shell.execute_reply.started": "2023-06-12T06:07:25.383914Z"
    },
    "tags": []
   },
   "outputs": [],
   "source": [
    "flat_item_purchase = (\n",
    "    item_purchase_matrix.stack()\n",
    "    .to_frame()\n",
    "    .reset_index()\n",
    "    .rename(columns={0: \"Quantity\"})\n",
    ")"
   ]
  },
  {
   "cell_type": "code",
   "execution_count": 7,
   "id": "1aa452b0-983e-4b0a-a0f7-0692ae70d408",
   "metadata": {
    "execution": {
     "iopub.execute_input": "2023-06-12T06:07:25.968914Z",
     "iopub.status.busy": "2023-06-12T06:07:25.967914Z",
     "iopub.status.idle": "2023-06-12T06:07:25.980921Z",
     "shell.execute_reply": "2023-06-12T06:07:25.980921Z",
     "shell.execute_reply.started": "2023-06-12T06:07:25.968914Z"
    },
    "tags": []
   },
   "outputs": [
    {
     "data": {
      "text/html": [
       "<div>\n",
       "<style scoped>\n",
       "    .dataframe tbody tr th:only-of-type {\n",
       "        vertical-align: middle;\n",
       "    }\n",
       "\n",
       "    .dataframe tbody tr th {\n",
       "        vertical-align: top;\n",
       "    }\n",
       "\n",
       "    .dataframe thead th {\n",
       "        text-align: right;\n",
       "    }\n",
       "</style>\n",
       "<table border=\"1\" class=\"dataframe\">\n",
       "  <thead>\n",
       "    <tr style=\"text-align: right;\">\n",
       "      <th></th>\n",
       "      <th>StockCode</th>\n",
       "      <th>CustomerID</th>\n",
       "      <th>Quantity</th>\n",
       "    </tr>\n",
       "  </thead>\n",
       "  <tbody>\n",
       "    <tr>\n",
       "      <th>0</th>\n",
       "      <td>10002</td>\n",
       "      <td>12346</td>\n",
       "      <td>0.0</td>\n",
       "    </tr>\n",
       "    <tr>\n",
       "      <th>1</th>\n",
       "      <td>10002</td>\n",
       "      <td>12347</td>\n",
       "      <td>0.0</td>\n",
       "    </tr>\n",
       "    <tr>\n",
       "      <th>2</th>\n",
       "      <td>10002</td>\n",
       "      <td>12348</td>\n",
       "      <td>0.0</td>\n",
       "    </tr>\n",
       "    <tr>\n",
       "      <th>3</th>\n",
       "      <td>10002</td>\n",
       "      <td>12350</td>\n",
       "      <td>0.0</td>\n",
       "    </tr>\n",
       "    <tr>\n",
       "      <th>4</th>\n",
       "      <td>10002</td>\n",
       "      <td>12352</td>\n",
       "      <td>0.0</td>\n",
       "    </tr>\n",
       "    <tr>\n",
       "      <th>...</th>\n",
       "      <td>...</td>\n",
       "      <td>...</td>\n",
       "      <td>...</td>\n",
       "    </tr>\n",
       "    <tr>\n",
       "      <th>12903081</th>\n",
       "      <td>POST</td>\n",
       "      <td>18280</td>\n",
       "      <td>0.0</td>\n",
       "    </tr>\n",
       "    <tr>\n",
       "      <th>12903082</th>\n",
       "      <td>POST</td>\n",
       "      <td>18281</td>\n",
       "      <td>0.0</td>\n",
       "    </tr>\n",
       "    <tr>\n",
       "      <th>12903083</th>\n",
       "      <td>POST</td>\n",
       "      <td>18282</td>\n",
       "      <td>0.0</td>\n",
       "    </tr>\n",
       "    <tr>\n",
       "      <th>12903084</th>\n",
       "      <td>POST</td>\n",
       "      <td>18283</td>\n",
       "      <td>0.0</td>\n",
       "    </tr>\n",
       "    <tr>\n",
       "      <th>12903085</th>\n",
       "      <td>POST</td>\n",
       "      <td>18287</td>\n",
       "      <td>0.0</td>\n",
       "    </tr>\n",
       "  </tbody>\n",
       "</table>\n",
       "<p>12903086 rows × 3 columns</p>\n",
       "</div>"
      ],
      "text/plain": [
       "         StockCode  CustomerID  Quantity\n",
       "0            10002       12346       0.0\n",
       "1            10002       12347       0.0\n",
       "2            10002       12348       0.0\n",
       "3            10002       12350       0.0\n",
       "4            10002       12352       0.0\n",
       "...            ...         ...       ...\n",
       "12903081      POST       18280       0.0\n",
       "12903082      POST       18281       0.0\n",
       "12903083      POST       18282       0.0\n",
       "12903084      POST       18283       0.0\n",
       "12903085      POST       18287       0.0\n",
       "\n",
       "[12903086 rows x 3 columns]"
      ]
     },
     "execution_count": 7,
     "metadata": {},
     "output_type": "execute_result"
    }
   ],
   "source": [
    "flat_item_purchase"
   ]
  },
  {
   "cell_type": "code",
   "execution_count": 8,
   "id": "14131804-43bd-442d-af7c-9376349fafe4",
   "metadata": {
    "execution": {
     "iopub.execute_input": "2023-06-12T06:07:25.981914Z",
     "iopub.status.busy": "2023-06-12T06:07:25.981914Z",
     "iopub.status.idle": "2023-06-12T06:07:25.996922Z",
     "shell.execute_reply": "2023-06-12T06:07:25.996922Z",
     "shell.execute_reply.started": "2023-06-12T06:07:25.981914Z"
    },
    "tags": []
   },
   "outputs": [],
   "source": [
    "customers_filtered = (\n",
    "    df.groupby(\"CustomerID\").InvoiceNo.count().reset_index().query(\"InvoiceNo > 120\")\n",
    ")"
   ]
  },
  {
   "cell_type": "code",
   "execution_count": 9,
   "id": "730ef2d8-c2ba-47a0-89dd-c8f51bc996f0",
   "metadata": {
    "execution": {
     "iopub.execute_input": "2023-06-12T06:07:25.998913Z",
     "iopub.status.busy": "2023-06-12T06:07:25.996922Z",
     "iopub.status.idle": "2023-06-12T06:07:26.027922Z",
     "shell.execute_reply": "2023-06-12T06:07:26.027922Z",
     "shell.execute_reply.started": "2023-06-12T06:07:25.998913Z"
    },
    "tags": []
   },
   "outputs": [],
   "source": [
    "items_filtered = (\n",
    "    df.groupby(\"StockCode\").Quantity.count().reset_index().query(\"Quantity > 120\")\n",
    ")"
   ]
  },
  {
   "cell_type": "code",
   "execution_count": 10,
   "id": "7261e978-7eaa-4f75-8ba6-008f7a5d840c",
   "metadata": {
    "execution": {
     "iopub.execute_input": "2023-06-12T06:07:26.028916Z",
     "iopub.status.busy": "2023-06-12T06:07:26.028916Z",
     "iopub.status.idle": "2023-06-12T06:07:26.816771Z",
     "shell.execute_reply": "2023-06-12T06:07:26.816771Z",
     "shell.execute_reply.started": "2023-06-12T06:07:26.028916Z"
    },
    "tags": []
   },
   "outputs": [
    {
     "data": {
      "text/html": [
       "<div>\n",
       "<style scoped>\n",
       "    .dataframe tbody tr th:only-of-type {\n",
       "        vertical-align: middle;\n",
       "    }\n",
       "\n",
       "    .dataframe tbody tr th {\n",
       "        vertical-align: top;\n",
       "    }\n",
       "\n",
       "    .dataframe thead th {\n",
       "        text-align: right;\n",
       "    }\n",
       "</style>\n",
       "<table border=\"1\" class=\"dataframe\">\n",
       "  <thead>\n",
       "    <tr style=\"text-align: right;\">\n",
       "      <th></th>\n",
       "      <th>StockCode</th>\n",
       "      <th>CustomerID</th>\n",
       "      <th>Quantity</th>\n",
       "    </tr>\n",
       "  </thead>\n",
       "  <tbody>\n",
       "    <tr>\n",
       "      <th>0</th>\n",
       "      <td>10133</td>\n",
       "      <td>12347</td>\n",
       "      <td>124</td>\n",
       "    </tr>\n",
       "    <tr>\n",
       "      <th>1</th>\n",
       "      <td>10133</td>\n",
       "      <td>12359</td>\n",
       "      <td>143</td>\n",
       "    </tr>\n",
       "    <tr>\n",
       "      <th>2</th>\n",
       "      <td>10133</td>\n",
       "      <td>12362</td>\n",
       "      <td>145</td>\n",
       "    </tr>\n",
       "    <tr>\n",
       "      <th>3</th>\n",
       "      <td>10133</td>\n",
       "      <td>12370</td>\n",
       "      <td>139</td>\n",
       "    </tr>\n",
       "    <tr>\n",
       "      <th>4</th>\n",
       "      <td>10133</td>\n",
       "      <td>12378</td>\n",
       "      <td>219</td>\n",
       "    </tr>\n",
       "    <tr>\n",
       "      <th>...</th>\n",
       "      <td>...</td>\n",
       "      <td>...</td>\n",
       "      <td>...</td>\n",
       "    </tr>\n",
       "    <tr>\n",
       "      <th>385667</th>\n",
       "      <td>POST</td>\n",
       "      <td>18226</td>\n",
       "      <td>208</td>\n",
       "    </tr>\n",
       "    <tr>\n",
       "      <th>385668</th>\n",
       "      <td>POST</td>\n",
       "      <td>18229</td>\n",
       "      <td>131</td>\n",
       "    </tr>\n",
       "    <tr>\n",
       "      <th>385669</th>\n",
       "      <td>POST</td>\n",
       "      <td>18231</td>\n",
       "      <td>124</td>\n",
       "    </tr>\n",
       "    <tr>\n",
       "      <th>385670</th>\n",
       "      <td>POST</td>\n",
       "      <td>18260</td>\n",
       "      <td>134</td>\n",
       "    </tr>\n",
       "    <tr>\n",
       "      <th>385671</th>\n",
       "      <td>POST</td>\n",
       "      <td>18283</td>\n",
       "      <td>447</td>\n",
       "    </tr>\n",
       "  </tbody>\n",
       "</table>\n",
       "<p>385672 rows × 3 columns</p>\n",
       "</div>"
      ],
      "text/plain": [
       "       StockCode  CustomerID  Quantity\n",
       "0          10133       12347       124\n",
       "1          10133       12359       143\n",
       "2          10133       12362       145\n",
       "3          10133       12370       139\n",
       "4          10133       12378       219\n",
       "...          ...         ...       ...\n",
       "385667      POST       18226       208\n",
       "385668      POST       18229       131\n",
       "385669      POST       18231       124\n",
       "385670      POST       18260       134\n",
       "385671      POST       18283       447\n",
       "\n",
       "[385672 rows x 3 columns]"
      ]
     },
     "execution_count": 10,
     "metadata": {},
     "output_type": "execute_result"
    }
   ],
   "source": [
    "df1 = (\n",
    "    flat_item_purchase.merge(\n",
    "        customers_filtered,\n",
    "        on=\"CustomerID\",\n",
    "        how=\"inner\",\n",
    "    )\n",
    "    .drop([\"Quantity\"], axis=1)\n",
    "    .merge(\n",
    "        items_filtered,\n",
    "        on=\"StockCode\",\n",
    "        how=\"inner\",\n",
    "    )\n",
    "    .drop([\"Quantity\"], axis=1)\n",
    "    .rename({\"InvoiceNo\": \"Quantity\"}, axis=1)\n",
    ")\n",
    "\n",
    "df1"
   ]
  },
  {
   "cell_type": "code",
   "execution_count": 11,
   "id": "5089a4e6-7200-4c4a-b557-06f3e11197f8",
   "metadata": {
    "execution": {
     "iopub.execute_input": "2023-06-12T06:07:26.817766Z",
     "iopub.status.busy": "2023-06-12T06:07:26.817766Z",
     "iopub.status.idle": "2023-06-12T06:07:26.847775Z",
     "shell.execute_reply": "2023-06-12T06:07:26.847775Z",
     "shell.execute_reply.started": "2023-06-12T06:07:26.817766Z"
    },
    "tags": []
   },
   "outputs": [
    {
     "data": {
      "text/html": [
       "<div>\n",
       "<style scoped>\n",
       "    .dataframe tbody tr th:only-of-type {\n",
       "        vertical-align: middle;\n",
       "    }\n",
       "\n",
       "    .dataframe tbody tr th {\n",
       "        vertical-align: top;\n",
       "    }\n",
       "\n",
       "    .dataframe thead th {\n",
       "        text-align: right;\n",
       "    }\n",
       "</style>\n",
       "<table border=\"1\" class=\"dataframe\">\n",
       "  <thead>\n",
       "    <tr style=\"text-align: right;\">\n",
       "      <th></th>\n",
       "      <th>CustomerID</th>\n",
       "      <th>Quantity</th>\n",
       "    </tr>\n",
       "  </thead>\n",
       "  <tbody>\n",
       "    <tr>\n",
       "      <th>count</th>\n",
       "      <td>385672.000000</td>\n",
       "      <td>385672.000000</td>\n",
       "    </tr>\n",
       "    <tr>\n",
       "      <th>mean</th>\n",
       "      <td>15360.985915</td>\n",
       "      <td>279.089789</td>\n",
       "    </tr>\n",
       "    <tr>\n",
       "      <th>std</th>\n",
       "      <td>1719.468125</td>\n",
       "      <td>337.879413</td>\n",
       "    </tr>\n",
       "    <tr>\n",
       "      <th>min</th>\n",
       "      <td>12347.000000</td>\n",
       "      <td>121.000000</td>\n",
       "    </tr>\n",
       "    <tr>\n",
       "      <th>25%</th>\n",
       "      <td>13996.250000</td>\n",
       "      <td>151.000000</td>\n",
       "    </tr>\n",
       "    <tr>\n",
       "      <th>50%</th>\n",
       "      <td>15413.000000</td>\n",
       "      <td>198.000000</td>\n",
       "    </tr>\n",
       "    <tr>\n",
       "      <th>75%</th>\n",
       "      <td>16840.000000</td>\n",
       "      <td>290.000000</td>\n",
       "    </tr>\n",
       "    <tr>\n",
       "      <th>max</th>\n",
       "      <td>18283.000000</td>\n",
       "      <td>5095.000000</td>\n",
       "    </tr>\n",
       "  </tbody>\n",
       "</table>\n",
       "</div>"
      ],
      "text/plain": [
       "          CustomerID       Quantity\n",
       "count  385672.000000  385672.000000\n",
       "mean    15360.985915     279.089789\n",
       "std      1719.468125     337.879413\n",
       "min     12347.000000     121.000000\n",
       "25%     13996.250000     151.000000\n",
       "50%     15413.000000     198.000000\n",
       "75%     16840.000000     290.000000\n",
       "max     18283.000000    5095.000000"
      ]
     },
     "execution_count": 11,
     "metadata": {},
     "output_type": "execute_result"
    }
   ],
   "source": [
    "df1.describe()"
   ]
  },
  {
   "cell_type": "code",
   "execution_count": 13,
   "id": "5c53cc6d-223e-4537-8c05-7ce174aeea23",
   "metadata": {
    "execution": {
     "iopub.execute_input": "2023-06-12T06:08:48.672958Z",
     "iopub.status.busy": "2023-06-12T06:08:48.671958Z",
     "iopub.status.idle": "2023-06-12T06:08:48.679958Z",
     "shell.execute_reply": "2023-06-12T06:08:48.679958Z",
     "shell.execute_reply.started": "2023-06-12T06:08:48.672958Z"
    },
    "tags": []
   },
   "outputs": [],
   "source": [
    "reader = Reader(rating_scale=(0, df1.Quantity.max()))"
   ]
  },
  {
   "cell_type": "code",
   "execution_count": 14,
   "id": "6702786a-7ab3-4114-93aa-db482276625d",
   "metadata": {
    "execution": {
     "iopub.execute_input": "2023-06-12T06:08:49.320952Z",
     "iopub.status.busy": "2023-06-12T06:08:49.319960Z",
     "iopub.status.idle": "2023-06-12T06:08:49.566958Z",
     "shell.execute_reply": "2023-06-12T06:08:49.566958Z",
     "shell.execute_reply.started": "2023-06-12T06:08:49.320952Z"
    },
    "tags": []
   },
   "outputs": [],
   "source": [
    "dataset = Dataset.load_from_df(df1, reader)"
   ]
  },
  {
   "cell_type": "code",
   "execution_count": 15,
   "id": "1eb34493-1dc4-4c7b-8f05-6618babd2c6e",
   "metadata": {
    "execution": {
     "iopub.execute_input": "2023-06-12T06:08:49.568957Z",
     "iopub.status.busy": "2023-06-12T06:08:49.567960Z",
     "iopub.status.idle": "2023-06-12T06:08:49.931952Z",
     "shell.execute_reply": "2023-06-12T06:08:49.930959Z",
     "shell.execute_reply.started": "2023-06-12T06:08:49.568957Z"
    },
    "tags": []
   },
   "outputs": [],
   "source": [
    "train_set, test_set = train_test_split(dataset)"
   ]
  },
  {
   "cell_type": "markdown",
   "id": "1bd1b507-1198-4712-b858-5580b069dd3d",
   "metadata": {},
   "source": [
    "## NMF"
   ]
  },
  {
   "cell_type": "code",
   "execution_count": 16,
   "id": "b321413c-3951-4c0a-bc2b-be38967abdd8",
   "metadata": {
    "execution": {
     "iopub.execute_input": "2023-06-12T06:08:49.932952Z",
     "iopub.status.busy": "2023-06-12T06:08:49.932952Z",
     "iopub.status.idle": "2023-06-12T06:08:54.202731Z",
     "shell.execute_reply": "2023-06-12T06:08:54.201796Z",
     "shell.execute_reply.started": "2023-06-12T06:08:49.932952Z"
    },
    "tags": []
   },
   "outputs": [],
   "source": [
    "nmf = NMF()\n",
    "nmf.fit(train_set)\n",
    "preds1 = nmf.test(test_set)"
   ]
  },
  {
   "cell_type": "code",
   "execution_count": 17,
   "id": "f9262fcf-d406-4e3c-9bb4-4610b6e4068e",
   "metadata": {
    "execution": {
     "iopub.execute_input": "2023-06-12T06:08:54.203818Z",
     "iopub.status.busy": "2023-06-12T06:08:54.202731Z",
     "iopub.status.idle": "2023-06-12T06:08:54.250741Z",
     "shell.execute_reply": "2023-06-12T06:08:54.249736Z",
     "shell.execute_reply.started": "2023-06-12T06:08:54.203818Z"
    },
    "tags": []
   },
   "outputs": [
    {
     "name": "stdout",
     "output_type": "stream",
     "text": [
      "MAE:  273.1830\n"
     ]
    },
    {
     "data": {
      "text/plain": [
       "273.18295244203006"
      ]
     },
     "execution_count": 17,
     "metadata": {},
     "output_type": "execute_result"
    }
   ],
   "source": [
    "accuracy.mae(preds1)"
   ]
  },
  {
   "cell_type": "code",
   "execution_count": 18,
   "id": "71c2f07b-97a0-425b-b6ab-f6b1606c3bb3",
   "metadata": {
    "execution": {
     "iopub.execute_input": "2023-06-12T06:08:54.251729Z",
     "iopub.status.busy": "2023-06-12T06:08:54.251729Z",
     "iopub.status.idle": "2023-06-12T06:08:54.296736Z",
     "shell.execute_reply": "2023-06-12T06:08:54.296736Z",
     "shell.execute_reply.started": "2023-06-12T06:08:54.251729Z"
    },
    "tags": []
   },
   "outputs": [
    {
     "name": "stdout",
     "output_type": "stream",
     "text": [
      "RMSE: 431.0366\n"
     ]
    },
    {
     "data": {
      "text/plain": [
       "431.03661940567815"
      ]
     },
     "execution_count": 18,
     "metadata": {},
     "output_type": "execute_result"
    }
   ],
   "source": [
    "accuracy.rmse(preds1)"
   ]
  },
  {
   "cell_type": "code",
   "execution_count": 19,
   "id": "f69e360a-6e07-4d80-bd48-9cef488e2161",
   "metadata": {
    "execution": {
     "iopub.execute_input": "2023-06-12T06:08:54.298729Z",
     "iopub.status.busy": "2023-06-12T06:08:54.297729Z",
     "iopub.status.idle": "2023-06-12T06:09:17.794228Z",
     "shell.execute_reply": "2023-06-12T06:09:17.794228Z",
     "shell.execute_reply.started": "2023-06-12T06:08:54.298729Z"
    },
    "tags": []
   },
   "outputs": [
    {
     "name": "stdout",
     "output_type": "stream",
     "text": [
      "Evaluating RMSE, MAE of algorithm NMF on 5 split(s).\n",
      "\n",
      "                  Fold 1  Fold 2  Fold 3  Fold 4  Fold 5  Mean    Std     \n",
      "RMSE (testset)    427.2182437.3399427.3972423.0850425.9486428.19784.8245  \n",
      "MAE (testset)     272.7719275.3858272.3181271.1275271.8861272.69791.4491  \n",
      "Fit time          3.80    3.81    4.26    3.87    3.75    3.90    0.19    \n",
      "Test time         0.45    0.42    0.28    0.41    0.41    0.39    0.06    \n"
     ]
    },
    {
     "data": {
      "text/plain": [
       "{'test_rmse': array([427.21821924, 437.33991992, 427.3972159 , 423.08500869,\n",
       "        425.94864574]),\n",
       " 'test_mae': array([272.77188221, 275.38578836, 272.31811785, 271.12748684,\n",
       "        271.88614567]),\n",
       " 'fit_time': (3.8030028343200684,\n",
       "  3.807250499725342,\n",
       "  4.263010025024414,\n",
       "  3.869279623031616,\n",
       "  3.748997926712036),\n",
       " 'test_time': (0.4509904384613037,\n",
       "  0.42299866676330566,\n",
       "  0.2799985408782959,\n",
       "  0.40799927711486816,\n",
       "  0.40999841690063477)}"
      ]
     },
     "execution_count": 19,
     "metadata": {},
     "output_type": "execute_result"
    }
   ],
   "source": [
    "cross_validate(nmf, dataset, verbose=True)"
   ]
  },
  {
   "cell_type": "markdown",
   "id": "926ccc64-1b04-43d1-bd5b-c6f7fc806eb0",
   "metadata": {},
   "source": [
    "## Co-Clustering"
   ]
  },
  {
   "cell_type": "code",
   "execution_count": 20,
   "id": "8947de04-0e22-4626-b484-64506f38cf7c",
   "metadata": {
    "execution": {
     "iopub.execute_input": "2023-06-12T06:09:17.795231Z",
     "iopub.status.busy": "2023-06-12T06:09:17.795231Z",
     "iopub.status.idle": "2023-06-12T06:09:23.475437Z",
     "shell.execute_reply": "2023-06-12T06:09:23.475437Z",
     "shell.execute_reply.started": "2023-06-12T06:09:17.795231Z"
    },
    "tags": []
   },
   "outputs": [],
   "source": [
    "clustering = CoClustering()\n",
    "clustering.fit(train_set)\n",
    "preds2 = clustering.test(test_set)"
   ]
  },
  {
   "cell_type": "code",
   "execution_count": 21,
   "id": "8ed1b304-f631-4ab6-90a6-09cc6754cc43",
   "metadata": {
    "execution": {
     "iopub.execute_input": "2023-06-12T06:09:23.477431Z",
     "iopub.status.busy": "2023-06-12T06:09:23.476439Z",
     "iopub.status.idle": "2023-06-12T06:09:23.522508Z",
     "shell.execute_reply": "2023-06-12T06:09:23.522508Z",
     "shell.execute_reply.started": "2023-06-12T06:09:23.477431Z"
    },
    "tags": []
   },
   "outputs": [
    {
     "name": "stdout",
     "output_type": "stream",
     "text": [
      "RMSE: 7.0874\n"
     ]
    },
    {
     "data": {
      "text/plain": [
       "7.0873789504537905"
      ]
     },
     "execution_count": 21,
     "metadata": {},
     "output_type": "execute_result"
    }
   ],
   "source": [
    "accuracy.rmse(preds2)"
   ]
  },
  {
   "cell_type": "code",
   "execution_count": 22,
   "id": "89a4d030-bc08-40e2-a1d5-68d5be21bda1",
   "metadata": {
    "execution": {
     "iopub.execute_input": "2023-06-12T06:09:23.524431Z",
     "iopub.status.busy": "2023-06-12T06:09:23.523518Z",
     "iopub.status.idle": "2023-06-12T06:09:23.554440Z",
     "shell.execute_reply": "2023-06-12T06:09:23.554440Z",
     "shell.execute_reply.started": "2023-06-12T06:09:23.524431Z"
    },
    "tags": []
   },
   "outputs": [
    {
     "name": "stdout",
     "output_type": "stream",
     "text": [
      "MAE:  5.6492\n"
     ]
    },
    {
     "data": {
      "text/plain": [
       "5.649175172460262"
      ]
     },
     "execution_count": 22,
     "metadata": {},
     "output_type": "execute_result"
    }
   ],
   "source": [
    "accuracy.mae(preds2)"
   ]
  },
  {
   "cell_type": "code",
   "execution_count": 23,
   "id": "c3482651-3d28-40af-856b-df7979ddb690",
   "metadata": {
    "execution": {
     "iopub.execute_input": "2023-06-12T06:09:23.556431Z",
     "iopub.status.busy": "2023-06-12T06:09:23.556431Z",
     "iopub.status.idle": "2023-06-12T06:09:54.328165Z",
     "shell.execute_reply": "2023-06-12T06:09:54.328165Z",
     "shell.execute_reply.started": "2023-06-12T06:09:23.556431Z"
    },
    "tags": []
   },
   "outputs": [
    {
     "name": "stdout",
     "output_type": "stream",
     "text": [
      "Evaluating RMSE, MAE of algorithm CoClustering on 5 split(s).\n",
      "\n",
      "                  Fold 1  Fold 2  Fold 3  Fold 4  Fold 5  Mean    Std     \n",
      "RMSE (testset)    7.2126  6.8308  6.9820  7.0325  7.2584  7.0633  0.1562  \n",
      "MAE (testset)     5.7398  5.5259  5.7139  5.6237  5.8759  5.6959  0.1173  \n",
      "Fit time          5.25    5.30    5.23    5.29    5.62    5.34    0.14    \n",
      "Test time         0.35    0.51    0.52    0.34    0.52    0.45    0.08    \n"
     ]
    },
    {
     "data": {
      "text/plain": [
       "{'test_rmse': array([7.21256679, 6.83076977, 6.98204576, 7.03253093, 7.25840344]),\n",
       " 'test_mae': array([5.73982713, 5.5259464 , 5.71387195, 5.62372022, 5.87591166]),\n",
       " 'fit_time': (5.246999979019165,\n",
       "  5.300997972488403,\n",
       "  5.2251152992248535,\n",
       "  5.289999961853027,\n",
       "  5.615610122680664),\n",
       " 'test_time': (0.34599995613098145,\n",
       "  0.5090076923370361,\n",
       "  0.5150022506713867,\n",
       "  0.3439912796020508,\n",
       "  0.5190067291259766)}"
      ]
     },
     "execution_count": 23,
     "metadata": {},
     "output_type": "execute_result"
    }
   ],
   "source": [
    "cross_validate(clustering, dataset, verbose=True)"
   ]
  },
  {
   "cell_type": "markdown",
   "id": "c85674d4-3044-4180-9a2b-b6692dfa6164",
   "metadata": {},
   "source": [
    "## SVD"
   ]
  },
  {
   "cell_type": "code",
   "execution_count": 24,
   "id": "6daaddc3-50a2-4ded-bd4b-3431b1f350dc",
   "metadata": {
    "execution": {
     "iopub.execute_input": "2023-06-12T06:09:54.330165Z",
     "iopub.status.busy": "2023-06-12T06:09:54.329175Z",
     "iopub.status.idle": "2023-06-12T06:09:57.216165Z",
     "shell.execute_reply": "2023-06-12T06:09:57.216165Z",
     "shell.execute_reply.started": "2023-06-12T06:09:54.330165Z"
    },
    "tags": []
   },
   "outputs": [],
   "source": [
    "svd = SVD()\n",
    "svd.fit(train_set)\n",
    "preds3 = svd.test(test_set)"
   ]
  },
  {
   "cell_type": "code",
   "execution_count": 25,
   "id": "e8adeb76-d189-4213-9065-7215776e650b",
   "metadata": {
    "execution": {
     "iopub.execute_input": "2023-06-12T06:09:57.218167Z",
     "iopub.status.busy": "2023-06-12T06:09:57.217177Z",
     "iopub.status.idle": "2023-06-12T06:09:57.342172Z",
     "shell.execute_reply": "2023-06-12T06:09:57.342172Z",
     "shell.execute_reply.started": "2023-06-12T06:09:57.217177Z"
    },
    "tags": []
   },
   "outputs": [
    {
     "name": "stdout",
     "output_type": "stream",
     "text": [
      "MAE:  4815.3470\n"
     ]
    },
    {
     "data": {
      "text/plain": [
       "4815.347040902314"
      ]
     },
     "execution_count": 25,
     "metadata": {},
     "output_type": "execute_result"
    }
   ],
   "source": [
    "accuracy.mae(preds3)"
   ]
  },
  {
   "cell_type": "code",
   "execution_count": 26,
   "id": "70bc632f-eb9b-4745-a275-0710c3cc71fe",
   "metadata": {
    "execution": {
     "iopub.execute_input": "2023-06-12T06:09:57.344165Z",
     "iopub.status.busy": "2023-06-12T06:09:57.342172Z",
     "iopub.status.idle": "2023-06-12T06:09:57.468175Z",
     "shell.execute_reply": "2023-06-12T06:09:57.468175Z",
     "shell.execute_reply.started": "2023-06-12T06:09:57.344165Z"
    },
    "tags": []
   },
   "outputs": [
    {
     "name": "stdout",
     "output_type": "stream",
     "text": [
      "RMSE: 4827.4272\n"
     ]
    },
    {
     "data": {
      "text/plain": [
       "4827.427237340904"
      ]
     },
     "execution_count": 26,
     "metadata": {},
     "output_type": "execute_result"
    }
   ],
   "source": [
    "accuracy.rmse(preds3)"
   ]
  },
  {
   "cell_type": "code",
   "execution_count": 27,
   "id": "3359967b-e59f-4b34-ba8d-c87077c8c651",
   "metadata": {
    "execution": {
     "iopub.execute_input": "2023-06-12T06:09:57.470166Z",
     "iopub.status.busy": "2023-06-12T06:09:57.469166Z",
     "iopub.status.idle": "2023-06-12T06:10:15.791155Z",
     "shell.execute_reply": "2023-06-12T06:10:15.791155Z",
     "shell.execute_reply.started": "2023-06-12T06:09:57.470166Z"
    },
    "tags": []
   },
   "outputs": [
    {
     "data": {
      "text/plain": [
       "{'test_rmse': array([4828.09822355, 4826.49133378, 4826.93774989, 4828.22080911,\n",
       "        4828.9928206 ]),\n",
       " 'test_mae': array([4816.41547935, 4813.97547158, 4814.67504602, 4816.95398916,\n",
       "        4817.53108875]),\n",
       " 'fit_time': (2.645998954772949,\n",
       "  2.654064893722534,\n",
       "  2.6572108268737793,\n",
       "  2.6640796661376953,\n",
       "  2.643000602722168),\n",
       " 'test_time': (0.558243989944458,\n",
       "  0.5399990081787109,\n",
       "  0.32199811935424805,\n",
       "  0.5149219036102295,\n",
       "  0.33400702476501465)}"
      ]
     },
     "execution_count": 27,
     "metadata": {},
     "output_type": "execute_result"
    }
   ],
   "source": [
    "cross_validate(svd, dataset)"
   ]
  },
  {
   "cell_type": "code",
   "execution_count": null,
   "id": "5ae13849-2f07-4300-9567-82b942c0a189",
   "metadata": {},
   "outputs": [],
   "source": []
  }
 ],
 "metadata": {
  "kernelspec": {
   "display_name": "Python (env)",
   "language": "python",
   "name": "env"
  },
  "language_info": {
   "codemirror_mode": {
    "name": "ipython",
    "version": 3
   },
   "file_extension": ".py",
   "mimetype": "text/x-python",
   "name": "python",
   "nbconvert_exporter": "python",
   "pygments_lexer": "ipython3",
   "version": "3.10.10"
  }
 },
 "nbformat": 4,
 "nbformat_minor": 5
}
