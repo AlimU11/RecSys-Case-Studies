{
 "cells": [
  {
   "cell_type": "markdown",
   "id": "49456ffe-6a87-484b-a022-d1009b9aeba7",
   "metadata": {},
   "source": [
    "## Memory based Collaborative Filtering"
   ]
  },
  {
   "cell_type": "code",
   "execution_count": 1,
   "id": "65f23e4f-5076-4fb1-8783-2a5e1861a369",
   "metadata": {
    "execution": {
     "iopub.execute_input": "2023-06-12T02:51:44.456973Z",
     "iopub.status.busy": "2023-06-12T02:51:44.455969Z",
     "iopub.status.idle": "2023-06-12T02:51:45.913975Z",
     "shell.execute_reply": "2023-06-12T02:51:45.913975Z",
     "shell.execute_reply.started": "2023-06-12T02:51:44.456973Z"
    },
    "tags": []
   },
   "outputs": [],
   "source": [
    "import numpy as np\n",
    "import pandas as pd\n",
    "from sklearn.metrics import mean_squared_error\n",
    "from sklearn.metrics.pairwise import cosine_similarity\n",
    "from sklearn.model_selection import train_test_split"
   ]
  },
  {
   "cell_type": "markdown",
   "id": "7bb822ef-e8af-4dae-a980-74632d8d5e8e",
   "metadata": {},
   "source": [
    "using https://www.kaggle.com/datasets/prajitdatta/movielens-100k-dataset"
   ]
  },
  {
   "cell_type": "code",
   "execution_count": 2,
   "id": "9e0b05dc-676e-4b44-b9b8-c5e9df5582b9",
   "metadata": {
    "execution": {
     "iopub.execute_input": "2023-06-12T02:51:45.915974Z",
     "iopub.status.busy": "2023-06-12T02:51:45.915974Z",
     "iopub.status.idle": "2023-06-12T02:51:45.930969Z",
     "shell.execute_reply": "2023-06-12T02:51:45.929979Z",
     "shell.execute_reply.started": "2023-06-12T02:51:45.915974Z"
    },
    "tags": []
   },
   "outputs": [],
   "source": [
    "u_cols = [\"user_id\", \"age\", \"sex\", \"occupation\", \"zip_code\"]\n",
    "users = pd.read_csv(\"../data/ml-100k/u.user\", sep=\"|\", names=u_cols, encoding=\"latin-1\")\n",
    "users.set_index(\"user_id\", inplace=True)"
   ]
  },
  {
   "cell_type": "code",
   "execution_count": 3,
   "id": "0bc2eeac-db30-4ebe-83c3-7d353bba4969",
   "metadata": {
    "execution": {
     "iopub.execute_input": "2023-06-12T02:51:45.931968Z",
     "iopub.status.busy": "2023-06-12T02:51:45.930969Z",
     "iopub.status.idle": "2023-06-12T02:51:45.945979Z",
     "shell.execute_reply": "2023-06-12T02:51:45.945979Z",
     "shell.execute_reply.started": "2023-06-12T02:51:45.931968Z"
    },
    "tags": []
   },
   "outputs": [
    {
     "data": {
      "text/html": [
       "<div>\n",
       "<style scoped>\n",
       "    .dataframe tbody tr th:only-of-type {\n",
       "        vertical-align: middle;\n",
       "    }\n",
       "\n",
       "    .dataframe tbody tr th {\n",
       "        vertical-align: top;\n",
       "    }\n",
       "\n",
       "    .dataframe thead th {\n",
       "        text-align: right;\n",
       "    }\n",
       "</style>\n",
       "<table border=\"1\" class=\"dataframe\">\n",
       "  <thead>\n",
       "    <tr style=\"text-align: right;\">\n",
       "      <th></th>\n",
       "      <th>age</th>\n",
       "      <th>sex</th>\n",
       "      <th>occupation</th>\n",
       "      <th>zip_code</th>\n",
       "    </tr>\n",
       "    <tr>\n",
       "      <th>user_id</th>\n",
       "      <th></th>\n",
       "      <th></th>\n",
       "      <th></th>\n",
       "      <th></th>\n",
       "    </tr>\n",
       "  </thead>\n",
       "  <tbody>\n",
       "    <tr>\n",
       "      <th>1</th>\n",
       "      <td>24</td>\n",
       "      <td>M</td>\n",
       "      <td>technician</td>\n",
       "      <td>85711</td>\n",
       "    </tr>\n",
       "    <tr>\n",
       "      <th>2</th>\n",
       "      <td>53</td>\n",
       "      <td>F</td>\n",
       "      <td>other</td>\n",
       "      <td>94043</td>\n",
       "    </tr>\n",
       "    <tr>\n",
       "      <th>3</th>\n",
       "      <td>23</td>\n",
       "      <td>M</td>\n",
       "      <td>writer</td>\n",
       "      <td>32067</td>\n",
       "    </tr>\n",
       "    <tr>\n",
       "      <th>4</th>\n",
       "      <td>24</td>\n",
       "      <td>M</td>\n",
       "      <td>technician</td>\n",
       "      <td>43537</td>\n",
       "    </tr>\n",
       "    <tr>\n",
       "      <th>5</th>\n",
       "      <td>33</td>\n",
       "      <td>F</td>\n",
       "      <td>other</td>\n",
       "      <td>15213</td>\n",
       "    </tr>\n",
       "    <tr>\n",
       "      <th>...</th>\n",
       "      <td>...</td>\n",
       "      <td>...</td>\n",
       "      <td>...</td>\n",
       "      <td>...</td>\n",
       "    </tr>\n",
       "    <tr>\n",
       "      <th>939</th>\n",
       "      <td>26</td>\n",
       "      <td>F</td>\n",
       "      <td>student</td>\n",
       "      <td>33319</td>\n",
       "    </tr>\n",
       "    <tr>\n",
       "      <th>940</th>\n",
       "      <td>32</td>\n",
       "      <td>M</td>\n",
       "      <td>administrator</td>\n",
       "      <td>02215</td>\n",
       "    </tr>\n",
       "    <tr>\n",
       "      <th>941</th>\n",
       "      <td>20</td>\n",
       "      <td>M</td>\n",
       "      <td>student</td>\n",
       "      <td>97229</td>\n",
       "    </tr>\n",
       "    <tr>\n",
       "      <th>942</th>\n",
       "      <td>48</td>\n",
       "      <td>F</td>\n",
       "      <td>librarian</td>\n",
       "      <td>78209</td>\n",
       "    </tr>\n",
       "    <tr>\n",
       "      <th>943</th>\n",
       "      <td>22</td>\n",
       "      <td>M</td>\n",
       "      <td>student</td>\n",
       "      <td>77841</td>\n",
       "    </tr>\n",
       "  </tbody>\n",
       "</table>\n",
       "<p>943 rows × 4 columns</p>\n",
       "</div>"
      ],
      "text/plain": [
       "         age sex     occupation zip_code\n",
       "user_id                                 \n",
       "1         24   M     technician    85711\n",
       "2         53   F          other    94043\n",
       "3         23   M         writer    32067\n",
       "4         24   M     technician    43537\n",
       "5         33   F          other    15213\n",
       "...      ...  ..            ...      ...\n",
       "939       26   F        student    33319\n",
       "940       32   M  administrator    02215\n",
       "941       20   M        student    97229\n",
       "942       48   F      librarian    78209\n",
       "943       22   M        student    77841\n",
       "\n",
       "[943 rows x 4 columns]"
      ]
     },
     "execution_count": 3,
     "metadata": {},
     "output_type": "execute_result"
    }
   ],
   "source": [
    "users"
   ]
  },
  {
   "cell_type": "code",
   "execution_count": 4,
   "id": "f3c19fc7-6b2b-4f5a-bdf9-887b58c3ed94",
   "metadata": {
    "execution": {
     "iopub.execute_input": "2023-06-12T02:51:45.947969Z",
     "iopub.status.busy": "2023-06-12T02:51:45.946970Z",
     "iopub.status.idle": "2023-06-12T02:51:45.978968Z",
     "shell.execute_reply": "2023-06-12T02:51:45.977969Z",
     "shell.execute_reply.started": "2023-06-12T02:51:45.947969Z"
    },
    "tags": []
   },
   "outputs": [
    {
     "data": {
      "text/html": [
       "<div>\n",
       "<style scoped>\n",
       "    .dataframe tbody tr th:only-of-type {\n",
       "        vertical-align: middle;\n",
       "    }\n",
       "\n",
       "    .dataframe tbody tr th {\n",
       "        vertical-align: top;\n",
       "    }\n",
       "\n",
       "    .dataframe thead th {\n",
       "        text-align: right;\n",
       "    }\n",
       "</style>\n",
       "<table border=\"1\" class=\"dataframe\">\n",
       "  <thead>\n",
       "    <tr style=\"text-align: right;\">\n",
       "      <th></th>\n",
       "      <th>movie_id</th>\n",
       "      <th>title</th>\n",
       "      <th>release date</th>\n",
       "      <th>video release date</th>\n",
       "      <th>IMDbURL</th>\n",
       "      <th>unknown</th>\n",
       "      <th>Action</th>\n",
       "      <th>Adventure</th>\n",
       "      <th>Animation</th>\n",
       "      <th>Children's</th>\n",
       "      <th>...</th>\n",
       "      <th>Fantasy</th>\n",
       "      <th>Film-Noir</th>\n",
       "      <th>Horror</th>\n",
       "      <th>Musical</th>\n",
       "      <th>Mystery</th>\n",
       "      <th>Romance</th>\n",
       "      <th>Sci-Fi</th>\n",
       "      <th>Thriller</th>\n",
       "      <th>War</th>\n",
       "      <th>Western</th>\n",
       "    </tr>\n",
       "  </thead>\n",
       "  <tbody>\n",
       "    <tr>\n",
       "      <th>0</th>\n",
       "      <td>1</td>\n",
       "      <td>Toy Story (1995)</td>\n",
       "      <td>01-Jan-1995</td>\n",
       "      <td>NaN</td>\n",
       "      <td>http://us.imdb.com/M/title-exact?Toy%20Story%2...</td>\n",
       "      <td>0</td>\n",
       "      <td>0</td>\n",
       "      <td>0</td>\n",
       "      <td>1</td>\n",
       "      <td>1</td>\n",
       "      <td>...</td>\n",
       "      <td>0</td>\n",
       "      <td>0</td>\n",
       "      <td>0</td>\n",
       "      <td>0</td>\n",
       "      <td>0</td>\n",
       "      <td>0</td>\n",
       "      <td>0</td>\n",
       "      <td>0</td>\n",
       "      <td>0</td>\n",
       "      <td>0</td>\n",
       "    </tr>\n",
       "    <tr>\n",
       "      <th>1</th>\n",
       "      <td>2</td>\n",
       "      <td>GoldenEye (1995)</td>\n",
       "      <td>01-Jan-1995</td>\n",
       "      <td>NaN</td>\n",
       "      <td>http://us.imdb.com/M/title-exact?GoldenEye%20(...</td>\n",
       "      <td>0</td>\n",
       "      <td>1</td>\n",
       "      <td>1</td>\n",
       "      <td>0</td>\n",
       "      <td>0</td>\n",
       "      <td>...</td>\n",
       "      <td>0</td>\n",
       "      <td>0</td>\n",
       "      <td>0</td>\n",
       "      <td>0</td>\n",
       "      <td>0</td>\n",
       "      <td>0</td>\n",
       "      <td>0</td>\n",
       "      <td>1</td>\n",
       "      <td>0</td>\n",
       "      <td>0</td>\n",
       "    </tr>\n",
       "    <tr>\n",
       "      <th>2</th>\n",
       "      <td>3</td>\n",
       "      <td>Four Rooms (1995)</td>\n",
       "      <td>01-Jan-1995</td>\n",
       "      <td>NaN</td>\n",
       "      <td>http://us.imdb.com/M/title-exact?Four%20Rooms%...</td>\n",
       "      <td>0</td>\n",
       "      <td>0</td>\n",
       "      <td>0</td>\n",
       "      <td>0</td>\n",
       "      <td>0</td>\n",
       "      <td>...</td>\n",
       "      <td>0</td>\n",
       "      <td>0</td>\n",
       "      <td>0</td>\n",
       "      <td>0</td>\n",
       "      <td>0</td>\n",
       "      <td>0</td>\n",
       "      <td>0</td>\n",
       "      <td>1</td>\n",
       "      <td>0</td>\n",
       "      <td>0</td>\n",
       "    </tr>\n",
       "    <tr>\n",
       "      <th>3</th>\n",
       "      <td>4</td>\n",
       "      <td>Get Shorty (1995)</td>\n",
       "      <td>01-Jan-1995</td>\n",
       "      <td>NaN</td>\n",
       "      <td>http://us.imdb.com/M/title-exact?Get%20Shorty%...</td>\n",
       "      <td>0</td>\n",
       "      <td>1</td>\n",
       "      <td>0</td>\n",
       "      <td>0</td>\n",
       "      <td>0</td>\n",
       "      <td>...</td>\n",
       "      <td>0</td>\n",
       "      <td>0</td>\n",
       "      <td>0</td>\n",
       "      <td>0</td>\n",
       "      <td>0</td>\n",
       "      <td>0</td>\n",
       "      <td>0</td>\n",
       "      <td>0</td>\n",
       "      <td>0</td>\n",
       "      <td>0</td>\n",
       "    </tr>\n",
       "    <tr>\n",
       "      <th>4</th>\n",
       "      <td>5</td>\n",
       "      <td>Copycat (1995)</td>\n",
       "      <td>01-Jan-1995</td>\n",
       "      <td>NaN</td>\n",
       "      <td>http://us.imdb.com/M/title-exact?Copycat%20(1995)</td>\n",
       "      <td>0</td>\n",
       "      <td>0</td>\n",
       "      <td>0</td>\n",
       "      <td>0</td>\n",
       "      <td>0</td>\n",
       "      <td>...</td>\n",
       "      <td>0</td>\n",
       "      <td>0</td>\n",
       "      <td>0</td>\n",
       "      <td>0</td>\n",
       "      <td>0</td>\n",
       "      <td>0</td>\n",
       "      <td>0</td>\n",
       "      <td>1</td>\n",
       "      <td>0</td>\n",
       "      <td>0</td>\n",
       "    </tr>\n",
       "  </tbody>\n",
       "</table>\n",
       "<p>5 rows × 24 columns</p>\n",
       "</div>"
      ],
      "text/plain": [
       "   movie_id              title release date  video release date   \n",
       "0         1   Toy Story (1995)  01-Jan-1995                 NaN  \\\n",
       "1         2   GoldenEye (1995)  01-Jan-1995                 NaN   \n",
       "2         3  Four Rooms (1995)  01-Jan-1995                 NaN   \n",
       "3         4  Get Shorty (1995)  01-Jan-1995                 NaN   \n",
       "4         5     Copycat (1995)  01-Jan-1995                 NaN   \n",
       "\n",
       "                                             IMDbURL  unknown  Action   \n",
       "0  http://us.imdb.com/M/title-exact?Toy%20Story%2...        0       0  \\\n",
       "1  http://us.imdb.com/M/title-exact?GoldenEye%20(...        0       1   \n",
       "2  http://us.imdb.com/M/title-exact?Four%20Rooms%...        0       0   \n",
       "3  http://us.imdb.com/M/title-exact?Get%20Shorty%...        0       1   \n",
       "4  http://us.imdb.com/M/title-exact?Copycat%20(1995)        0       0   \n",
       "\n",
       "   Adventure  Animation  Children's  ...  Fantasy  Film-Noir  Horror  Musical   \n",
       "0          0          1           1  ...        0          0       0        0  \\\n",
       "1          1          0           0  ...        0          0       0        0   \n",
       "2          0          0           0  ...        0          0       0        0   \n",
       "3          0          0           0  ...        0          0       0        0   \n",
       "4          0          0           0  ...        0          0       0        0   \n",
       "\n",
       "   Mystery  Romance  Sci-Fi  Thriller  War  Western  \n",
       "0        0        0       0         0    0        0  \n",
       "1        0        0       0         1    0        0  \n",
       "2        0        0       0         1    0        0  \n",
       "3        0        0       0         0    0        0  \n",
       "4        0        0       0         1    0        0  \n",
       "\n",
       "[5 rows x 24 columns]"
      ]
     },
     "execution_count": 4,
     "metadata": {},
     "output_type": "execute_result"
    }
   ],
   "source": [
    "i_cols = [\n",
    "    \"movie_id\",\n",
    "    \"title\",\n",
    "    \"release date\",\n",
    "    \"video release date\",\n",
    "    \"IMDbURL\",\n",
    "    \"unknown\",\n",
    "    \"Action\",\n",
    "    \"Adventure\",\n",
    "    \"Animation\",\n",
    "    \"Children's\",\n",
    "    \"Comedy\",\n",
    "    \"Crime\",\n",
    "    \"Documentary\",\n",
    "    \"Drama\",\n",
    "    \"Fantasy\",\n",
    "    \"Film-Noir\",\n",
    "    \"Horror\",\n",
    "    \"Musical\",\n",
    "    \"Mystery\",\n",
    "    \"Romance\",\n",
    "    \"Sci-Fi\",\n",
    "    \"Thriller\",\n",
    "    \"War\",\n",
    "    \"Western\",\n",
    "]\n",
    "\n",
    "movies = pd.read_csv(\n",
    "    \"../data/ml-100k/u.item\", sep=\"|\", names=i_cols, encoding=\"latin-1\"\n",
    ")\n",
    "\n",
    "movies.head()"
   ]
  },
  {
   "cell_type": "code",
   "execution_count": 5,
   "id": "7e17d646-3a10-4839-b7d4-9f5a4c102adc",
   "metadata": {
    "execution": {
     "iopub.execute_input": "2023-06-12T02:51:45.979968Z",
     "iopub.status.busy": "2023-06-12T02:51:45.979968Z",
     "iopub.status.idle": "2023-06-12T02:51:45.994968Z",
     "shell.execute_reply": "2023-06-12T02:51:45.993979Z",
     "shell.execute_reply.started": "2023-06-12T02:51:45.979968Z"
    },
    "tags": []
   },
   "outputs": [],
   "source": [
    "movies = movies[[\"movie_id\", \"title\"]]"
   ]
  },
  {
   "cell_type": "code",
   "execution_count": 6,
   "id": "602bc2c7-a03b-462e-b5b8-8dded557fee2",
   "metadata": {
    "execution": {
     "iopub.execute_input": "2023-06-12T02:51:45.995968Z",
     "iopub.status.busy": "2023-06-12T02:51:45.995968Z",
     "iopub.status.idle": "2023-06-12T02:51:46.042968Z",
     "shell.execute_reply": "2023-06-12T02:51:46.041974Z",
     "shell.execute_reply.started": "2023-06-12T02:51:45.995968Z"
    },
    "tags": []
   },
   "outputs": [
    {
     "data": {
      "text/html": [
       "<div>\n",
       "<style scoped>\n",
       "    .dataframe tbody tr th:only-of-type {\n",
       "        vertical-align: middle;\n",
       "    }\n",
       "\n",
       "    .dataframe tbody tr th {\n",
       "        vertical-align: top;\n",
       "    }\n",
       "\n",
       "    .dataframe thead th {\n",
       "        text-align: right;\n",
       "    }\n",
       "</style>\n",
       "<table border=\"1\" class=\"dataframe\">\n",
       "  <thead>\n",
       "    <tr style=\"text-align: right;\">\n",
       "      <th></th>\n",
       "      <th>user_id</th>\n",
       "      <th>movie_id</th>\n",
       "      <th>rating</th>\n",
       "      <th>timestamp</th>\n",
       "    </tr>\n",
       "  </thead>\n",
       "  <tbody>\n",
       "    <tr>\n",
       "      <th>0</th>\n",
       "      <td>196</td>\n",
       "      <td>242</td>\n",
       "      <td>3</td>\n",
       "      <td>881250949</td>\n",
       "    </tr>\n",
       "    <tr>\n",
       "      <th>1</th>\n",
       "      <td>186</td>\n",
       "      <td>302</td>\n",
       "      <td>3</td>\n",
       "      <td>891717742</td>\n",
       "    </tr>\n",
       "    <tr>\n",
       "      <th>2</th>\n",
       "      <td>22</td>\n",
       "      <td>377</td>\n",
       "      <td>1</td>\n",
       "      <td>878887116</td>\n",
       "    </tr>\n",
       "    <tr>\n",
       "      <th>3</th>\n",
       "      <td>244</td>\n",
       "      <td>51</td>\n",
       "      <td>2</td>\n",
       "      <td>880606923</td>\n",
       "    </tr>\n",
       "    <tr>\n",
       "      <th>4</th>\n",
       "      <td>166</td>\n",
       "      <td>346</td>\n",
       "      <td>1</td>\n",
       "      <td>886397596</td>\n",
       "    </tr>\n",
       "  </tbody>\n",
       "</table>\n",
       "</div>"
      ],
      "text/plain": [
       "   user_id  movie_id  rating  timestamp\n",
       "0      196       242       3  881250949\n",
       "1      186       302       3  891717742\n",
       "2       22       377       1  878887116\n",
       "3      244        51       2  880606923\n",
       "4      166       346       1  886397596"
      ]
     },
     "execution_count": 6,
     "metadata": {},
     "output_type": "execute_result"
    }
   ],
   "source": [
    "r_cols = [\"user_id\", \"movie_id\", \"rating\", \"timestamp\"]\n",
    "ratings = pd.read_csv(\n",
    "    \"../data/ml-100k/u.data\", sep=\"\\t\", names=r_cols, encoding=\"latin-1\"\n",
    ")\n",
    "ratings.head()"
   ]
  },
  {
   "cell_type": "code",
   "execution_count": 7,
   "id": "7356ad3f-1cbe-4e9c-8b64-f64c3e91c0e8",
   "metadata": {
    "execution": {
     "iopub.execute_input": "2023-06-12T02:51:46.044968Z",
     "iopub.status.busy": "2023-06-12T02:51:46.044968Z",
     "iopub.status.idle": "2023-06-12T02:51:46.058968Z",
     "shell.execute_reply": "2023-06-12T02:51:46.057978Z",
     "shell.execute_reply.started": "2023-06-12T02:51:46.044968Z"
    },
    "tags": []
   },
   "outputs": [],
   "source": [
    "ratings = ratings.drop(\"timestamp\", axis=1)"
   ]
  },
  {
   "cell_type": "code",
   "execution_count": 8,
   "id": "617aa7d6-c92c-4f37-878d-c8d826aa8fbc",
   "metadata": {
    "execution": {
     "iopub.execute_input": "2023-06-12T02:51:46.059968Z",
     "iopub.status.busy": "2023-06-12T02:51:46.059968Z",
     "iopub.status.idle": "2023-06-12T02:51:46.121978Z",
     "shell.execute_reply": "2023-06-12T02:51:46.121978Z",
     "shell.execute_reply.started": "2023-06-12T02:51:46.059968Z"
    },
    "tags": []
   },
   "outputs": [],
   "source": [
    "X = ratings.copy()\n",
    "y = ratings[\"user_id\"]\n",
    "\n",
    "X_train, X_test, y_train, y_test = train_test_split(\n",
    "    X, y, test_size=0.25, stratify=y, random_state=42\n",
    ")"
   ]
  },
  {
   "cell_type": "code",
   "execution_count": 10,
   "id": "cae5539f-cafa-43f2-aab4-7877ae1cabbb",
   "metadata": {
    "execution": {
     "iopub.execute_input": "2023-06-12T02:51:46.139971Z",
     "iopub.status.busy": "2023-06-12T02:51:46.138970Z",
     "iopub.status.idle": "2023-06-12T02:51:46.154970Z",
     "shell.execute_reply": "2023-06-12T02:51:46.152969Z",
     "shell.execute_reply.started": "2023-06-12T02:51:46.139971Z"
    },
    "tags": []
   },
   "outputs": [],
   "source": [
    "def baseline(user_id, movie_id):\n",
    "    return 3.0"
   ]
  },
  {
   "cell_type": "code",
   "execution_count": 11,
   "id": "b488626f-4cef-4e0e-b44d-c68559ed9e30",
   "metadata": {
    "execution": {
     "iopub.execute_input": "2023-06-12T02:51:46.156971Z",
     "iopub.status.busy": "2023-06-12T02:51:46.155970Z",
     "iopub.status.idle": "2023-06-12T02:51:46.170069Z",
     "shell.execute_reply": "2023-06-12T02:51:46.168970Z",
     "shell.execute_reply.started": "2023-06-12T02:51:46.156971Z"
    },
    "tags": []
   },
   "outputs": [],
   "source": [
    "def score(cf_model):\n",
    "    y_pred = np.array(\n",
    "        [\n",
    "            cf_model(user, movie)\n",
    "            for (user, movie) in zip(X_test[\"user_id\"], X_test[\"movie_id\"])\n",
    "        ]\n",
    "    )\n",
    "\n",
    "    y_true = np.array(X_test[\"rating\"])\n",
    "\n",
    "    return mean_squared_error(y_true, y_pred, squared=True)"
   ]
  },
  {
   "cell_type": "code",
   "execution_count": 12,
   "id": "54d24cf8-d871-431d-9de0-68a42711be8d",
   "metadata": {
    "execution": {
     "iopub.execute_input": "2023-06-12T02:51:46.171971Z",
     "iopub.status.busy": "2023-06-12T02:51:46.171971Z",
     "iopub.status.idle": "2023-06-12T02:51:46.201968Z",
     "shell.execute_reply": "2023-06-12T02:51:46.200969Z",
     "shell.execute_reply.started": "2023-06-12T02:51:46.171971Z"
    },
    "tags": []
   },
   "outputs": [
    {
     "data": {
      "text/plain": [
       "1.55956"
      ]
     },
     "execution_count": 12,
     "metadata": {},
     "output_type": "execute_result"
    }
   ],
   "source": [
    "score(baseline)"
   ]
  },
  {
   "cell_type": "code",
   "execution_count": 13,
   "id": "2439e956-457d-4a86-b18e-3d790eff7a0a",
   "metadata": {
    "execution": {
     "iopub.execute_input": "2023-06-12T02:51:46.202969Z",
     "iopub.status.busy": "2023-06-12T02:51:46.201968Z",
     "iopub.status.idle": "2023-06-12T02:51:46.278968Z",
     "shell.execute_reply": "2023-06-12T02:51:46.278968Z",
     "shell.execute_reply.started": "2023-06-12T02:51:46.202969Z"
    },
    "tags": []
   },
   "outputs": [
    {
     "data": {
      "text/html": [
       "<div>\n",
       "<style scoped>\n",
       "    .dataframe tbody tr th:only-of-type {\n",
       "        vertical-align: middle;\n",
       "    }\n",
       "\n",
       "    .dataframe tbody tr th {\n",
       "        vertical-align: top;\n",
       "    }\n",
       "\n",
       "    .dataframe thead th {\n",
       "        text-align: right;\n",
       "    }\n",
       "</style>\n",
       "<table border=\"1\" class=\"dataframe\">\n",
       "  <thead>\n",
       "    <tr style=\"text-align: right;\">\n",
       "      <th>movie_id</th>\n",
       "      <th>1</th>\n",
       "      <th>2</th>\n",
       "      <th>3</th>\n",
       "      <th>4</th>\n",
       "      <th>5</th>\n",
       "      <th>6</th>\n",
       "      <th>7</th>\n",
       "      <th>8</th>\n",
       "      <th>9</th>\n",
       "      <th>10</th>\n",
       "      <th>...</th>\n",
       "      <th>1671</th>\n",
       "      <th>1672</th>\n",
       "      <th>1673</th>\n",
       "      <th>1674</th>\n",
       "      <th>1676</th>\n",
       "      <th>1677</th>\n",
       "      <th>1679</th>\n",
       "      <th>1680</th>\n",
       "      <th>1681</th>\n",
       "      <th>1682</th>\n",
       "    </tr>\n",
       "    <tr>\n",
       "      <th>user_id</th>\n",
       "      <th></th>\n",
       "      <th></th>\n",
       "      <th></th>\n",
       "      <th></th>\n",
       "      <th></th>\n",
       "      <th></th>\n",
       "      <th></th>\n",
       "      <th></th>\n",
       "      <th></th>\n",
       "      <th></th>\n",
       "      <th></th>\n",
       "      <th></th>\n",
       "      <th></th>\n",
       "      <th></th>\n",
       "      <th></th>\n",
       "      <th></th>\n",
       "      <th></th>\n",
       "      <th></th>\n",
       "      <th></th>\n",
       "      <th></th>\n",
       "      <th></th>\n",
       "    </tr>\n",
       "  </thead>\n",
       "  <tbody>\n",
       "    <tr>\n",
       "      <th>1</th>\n",
       "      <td>5.0</td>\n",
       "      <td>3.0</td>\n",
       "      <td>4.0</td>\n",
       "      <td>NaN</td>\n",
       "      <td>3.0</td>\n",
       "      <td>5.0</td>\n",
       "      <td>4.0</td>\n",
       "      <td>1.0</td>\n",
       "      <td>5.0</td>\n",
       "      <td>3.0</td>\n",
       "      <td>...</td>\n",
       "      <td>NaN</td>\n",
       "      <td>NaN</td>\n",
       "      <td>NaN</td>\n",
       "      <td>NaN</td>\n",
       "      <td>NaN</td>\n",
       "      <td>NaN</td>\n",
       "      <td>NaN</td>\n",
       "      <td>NaN</td>\n",
       "      <td>NaN</td>\n",
       "      <td>NaN</td>\n",
       "    </tr>\n",
       "    <tr>\n",
       "      <th>2</th>\n",
       "      <td>4.0</td>\n",
       "      <td>NaN</td>\n",
       "      <td>NaN</td>\n",
       "      <td>NaN</td>\n",
       "      <td>NaN</td>\n",
       "      <td>NaN</td>\n",
       "      <td>NaN</td>\n",
       "      <td>NaN</td>\n",
       "      <td>NaN</td>\n",
       "      <td>2.0</td>\n",
       "      <td>...</td>\n",
       "      <td>NaN</td>\n",
       "      <td>NaN</td>\n",
       "      <td>NaN</td>\n",
       "      <td>NaN</td>\n",
       "      <td>NaN</td>\n",
       "      <td>NaN</td>\n",
       "      <td>NaN</td>\n",
       "      <td>NaN</td>\n",
       "      <td>NaN</td>\n",
       "      <td>NaN</td>\n",
       "    </tr>\n",
       "    <tr>\n",
       "      <th>3</th>\n",
       "      <td>NaN</td>\n",
       "      <td>NaN</td>\n",
       "      <td>NaN</td>\n",
       "      <td>NaN</td>\n",
       "      <td>NaN</td>\n",
       "      <td>NaN</td>\n",
       "      <td>NaN</td>\n",
       "      <td>NaN</td>\n",
       "      <td>NaN</td>\n",
       "      <td>NaN</td>\n",
       "      <td>...</td>\n",
       "      <td>NaN</td>\n",
       "      <td>NaN</td>\n",
       "      <td>NaN</td>\n",
       "      <td>NaN</td>\n",
       "      <td>NaN</td>\n",
       "      <td>NaN</td>\n",
       "      <td>NaN</td>\n",
       "      <td>NaN</td>\n",
       "      <td>NaN</td>\n",
       "      <td>NaN</td>\n",
       "    </tr>\n",
       "    <tr>\n",
       "      <th>4</th>\n",
       "      <td>NaN</td>\n",
       "      <td>NaN</td>\n",
       "      <td>NaN</td>\n",
       "      <td>NaN</td>\n",
       "      <td>NaN</td>\n",
       "      <td>NaN</td>\n",
       "      <td>NaN</td>\n",
       "      <td>NaN</td>\n",
       "      <td>NaN</td>\n",
       "      <td>NaN</td>\n",
       "      <td>...</td>\n",
       "      <td>NaN</td>\n",
       "      <td>NaN</td>\n",
       "      <td>NaN</td>\n",
       "      <td>NaN</td>\n",
       "      <td>NaN</td>\n",
       "      <td>NaN</td>\n",
       "      <td>NaN</td>\n",
       "      <td>NaN</td>\n",
       "      <td>NaN</td>\n",
       "      <td>NaN</td>\n",
       "    </tr>\n",
       "    <tr>\n",
       "      <th>5</th>\n",
       "      <td>4.0</td>\n",
       "      <td>3.0</td>\n",
       "      <td>NaN</td>\n",
       "      <td>NaN</td>\n",
       "      <td>NaN</td>\n",
       "      <td>NaN</td>\n",
       "      <td>NaN</td>\n",
       "      <td>NaN</td>\n",
       "      <td>NaN</td>\n",
       "      <td>NaN</td>\n",
       "      <td>...</td>\n",
       "      <td>NaN</td>\n",
       "      <td>NaN</td>\n",
       "      <td>NaN</td>\n",
       "      <td>NaN</td>\n",
       "      <td>NaN</td>\n",
       "      <td>NaN</td>\n",
       "      <td>NaN</td>\n",
       "      <td>NaN</td>\n",
       "      <td>NaN</td>\n",
       "      <td>NaN</td>\n",
       "    </tr>\n",
       "  </tbody>\n",
       "</table>\n",
       "<p>5 rows × 1641 columns</p>\n",
       "</div>"
      ],
      "text/plain": [
       "movie_id  1     2     3     4     5     6     7     8     9     10    ...   \n",
       "user_id                                                               ...   \n",
       "1          5.0   3.0   4.0   NaN   3.0   5.0   4.0   1.0   5.0   3.0  ...  \\\n",
       "2          4.0   NaN   NaN   NaN   NaN   NaN   NaN   NaN   NaN   2.0  ...   \n",
       "3          NaN   NaN   NaN   NaN   NaN   NaN   NaN   NaN   NaN   NaN  ...   \n",
       "4          NaN   NaN   NaN   NaN   NaN   NaN   NaN   NaN   NaN   NaN  ...   \n",
       "5          4.0   3.0   NaN   NaN   NaN   NaN   NaN   NaN   NaN   NaN  ...   \n",
       "\n",
       "movie_id  1671  1672  1673  1674  1676  1677  1679  1680  1681  1682  \n",
       "user_id                                                               \n",
       "1          NaN   NaN   NaN   NaN   NaN   NaN   NaN   NaN   NaN   NaN  \n",
       "2          NaN   NaN   NaN   NaN   NaN   NaN   NaN   NaN   NaN   NaN  \n",
       "3          NaN   NaN   NaN   NaN   NaN   NaN   NaN   NaN   NaN   NaN  \n",
       "4          NaN   NaN   NaN   NaN   NaN   NaN   NaN   NaN   NaN   NaN  \n",
       "5          NaN   NaN   NaN   NaN   NaN   NaN   NaN   NaN   NaN   NaN  \n",
       "\n",
       "[5 rows x 1641 columns]"
      ]
     },
     "execution_count": 13,
     "metadata": {},
     "output_type": "execute_result"
    }
   ],
   "source": [
    "r_matrix = X_train.pivot_table(values=\"rating\", index=\"user_id\", columns=\"movie_id\")\n",
    "r_matrix.head()"
   ]
  },
  {
   "cell_type": "code",
   "execution_count": 14,
   "id": "757a737a-04b2-48fe-868f-ecf9fca817f3",
   "metadata": {
    "execution": {
     "iopub.execute_input": "2023-06-12T02:51:46.280969Z",
     "iopub.status.busy": "2023-06-12T02:51:46.279968Z",
     "iopub.status.idle": "2023-06-12T02:51:46.294968Z",
     "shell.execute_reply": "2023-06-12T02:51:46.293968Z",
     "shell.execute_reply.started": "2023-06-12T02:51:46.280969Z"
    },
    "tags": []
   },
   "outputs": [
    {
     "data": {
      "text/plain": [
       "0.04846642536849022"
      ]
     },
     "execution_count": 14,
     "metadata": {},
     "output_type": "execute_result"
    }
   ],
   "source": [
    "1 - np.isnan(r_matrix).sum().sum() / r_matrix.size"
   ]
  },
  {
   "cell_type": "markdown",
   "id": "8444c0e4-281e-4a5a-84f7-e5f375b1b3fe",
   "metadata": {},
   "source": [
    "## Using mean rating"
   ]
  },
  {
   "cell_type": "code",
   "execution_count": 15,
   "id": "6a0472eb-0d0d-4eb1-96df-b3a95f2b9ec0",
   "metadata": {
    "execution": {
     "iopub.execute_input": "2023-06-12T02:51:46.295968Z",
     "iopub.status.busy": "2023-06-12T02:51:46.295968Z",
     "iopub.status.idle": "2023-06-12T02:51:46.309977Z",
     "shell.execute_reply": "2023-06-12T02:51:46.309977Z",
     "shell.execute_reply.started": "2023-06-12T02:51:46.295968Z"
    },
    "tags": []
   },
   "outputs": [],
   "source": [
    "def cf_mean(user_id, movie_id):\n",
    "    return r_matrix[movie_id].mean() if movie_id in r_matrix.columns else 3.0"
   ]
  },
  {
   "cell_type": "code",
   "execution_count": 16,
   "id": "3d9ec148-4f4b-4724-8978-7999f5cd5920",
   "metadata": {
    "execution": {
     "iopub.execute_input": "2023-06-12T02:51:46.311968Z",
     "iopub.status.busy": "2023-06-12T02:51:46.310977Z",
     "iopub.status.idle": "2023-06-12T02:51:47.618975Z",
     "shell.execute_reply": "2023-06-12T02:51:47.618975Z",
     "shell.execute_reply.started": "2023-06-12T02:51:46.311968Z"
    },
    "tags": []
   },
   "outputs": [
    {
     "data": {
      "text/plain": [
       "1.0610699160960584"
      ]
     },
     "execution_count": 16,
     "metadata": {},
     "output_type": "execute_result"
    }
   ],
   "source": [
    "score(cf_mean)"
   ]
  },
  {
   "cell_type": "markdown",
   "id": "fae35125-6a53-4c22-b2d5-1b39891d403c",
   "metadata": {},
   "source": [
    "## Using weighted mean rating"
   ]
  },
  {
   "cell_type": "code",
   "execution_count": 17,
   "id": "c6d235c0-6715-4155-91dd-d6e10fac5d2e",
   "metadata": {
    "execution": {
     "iopub.execute_input": "2023-06-12T02:51:47.620968Z",
     "iopub.status.busy": "2023-06-12T02:51:47.619969Z",
     "iopub.status.idle": "2023-06-12T02:51:47.682978Z",
     "shell.execute_reply": "2023-06-12T02:51:47.682978Z",
     "shell.execute_reply.started": "2023-06-12T02:51:47.619969Z"
    },
    "tags": []
   },
   "outputs": [],
   "source": [
    "cosine_sim = cosine_similarity(r_matrix.fillna(0), r_matrix.fillna(0))"
   ]
  },
  {
   "cell_type": "code",
   "execution_count": 18,
   "id": "019c319e-f34f-4cb8-8108-74d7b3588700",
   "metadata": {
    "execution": {
     "iopub.execute_input": "2023-06-12T02:51:47.683975Z",
     "iopub.status.busy": "2023-06-12T02:51:47.683975Z",
     "iopub.status.idle": "2023-06-12T02:51:47.698975Z",
     "shell.execute_reply": "2023-06-12T02:51:47.698975Z",
     "shell.execute_reply.started": "2023-06-12T02:51:47.683975Z"
    },
    "tags": []
   },
   "outputs": [],
   "source": [
    "cosine_sim = pd.DataFrame(cosine_sim, index=r_matrix.index, columns=r_matrix.index)"
   ]
  },
  {
   "cell_type": "code",
   "execution_count": 19,
   "id": "76626772-660a-4aea-a2d6-3768286f5ecf",
   "metadata": {
    "execution": {
     "iopub.execute_input": "2023-06-12T02:51:47.699978Z",
     "iopub.status.busy": "2023-06-12T02:51:47.699978Z",
     "iopub.status.idle": "2023-06-12T02:51:47.714968Z",
     "shell.execute_reply": "2023-06-12T02:51:47.713968Z",
     "shell.execute_reply.started": "2023-06-12T02:51:47.699978Z"
    },
    "tags": []
   },
   "outputs": [],
   "source": [
    "def cf_weighted_mean(user_id, movie_id):\n",
    "    score = np.nan\n",
    "\n",
    "    if movie_id in r_matrix.columns and user_id in r_matrix.index:\n",
    "        eps = 1e-10\n",
    "        idx = r_matrix[movie_id].dropna().index\n",
    "        user_sim = cosine_sim[user_id].loc[idx]\n",
    "        score = np.dot(user_sim, r_matrix[movie_id][idx]) / (user_sim.sum() + eps)\n",
    "\n",
    "    return score if not np.isnan(score) else 3.0"
   ]
  },
  {
   "cell_type": "code",
   "execution_count": 20,
   "id": "36f6d91b-2397-44ca-adb1-5d69d7a8044e",
   "metadata": {
    "execution": {
     "iopub.execute_input": "2023-06-12T02:51:47.716969Z",
     "iopub.status.busy": "2023-06-12T02:51:47.715970Z",
     "iopub.status.idle": "2023-06-12T02:51:57.513933Z",
     "shell.execute_reply": "2023-06-12T02:51:57.512923Z",
     "shell.execute_reply.started": "2023-06-12T02:51:47.716969Z"
    },
    "tags": []
   },
   "outputs": [
    {
     "data": {
      "text/plain": [
       "1.0478847740931785"
      ]
     },
     "execution_count": 20,
     "metadata": {},
     "output_type": "execute_result"
    }
   ],
   "source": [
    "score(cf_weighted_mean)"
   ]
  },
  {
   "cell_type": "code",
   "execution_count": 21,
   "id": "2f9a053e-ec87-4209-9d17-520600c3c2d9",
   "metadata": {
    "execution": {
     "iopub.execute_input": "2023-06-12T02:51:57.514923Z",
     "iopub.status.busy": "2023-06-12T02:51:57.513933Z",
     "iopub.status.idle": "2023-06-12T02:51:57.544932Z",
     "shell.execute_reply": "2023-06-12T02:51:57.544932Z",
     "shell.execute_reply.started": "2023-06-12T02:51:57.514923Z"
    },
    "tags": []
   },
   "outputs": [
    {
     "data": {
      "text/html": [
       "<div>\n",
       "<style scoped>\n",
       "    .dataframe tbody tr th:only-of-type {\n",
       "        vertical-align: middle;\n",
       "    }\n",
       "\n",
       "    .dataframe tbody tr th {\n",
       "        vertical-align: top;\n",
       "    }\n",
       "\n",
       "    .dataframe thead th {\n",
       "        text-align: right;\n",
       "    }\n",
       "</style>\n",
       "<table border=\"1\" class=\"dataframe\">\n",
       "  <thead>\n",
       "    <tr style=\"text-align: right;\">\n",
       "      <th></th>\n",
       "      <th>user_id</th>\n",
       "      <th>movie_id</th>\n",
       "      <th>rating</th>\n",
       "      <th>age</th>\n",
       "      <th>sex</th>\n",
       "      <th>occupation</th>\n",
       "      <th>zip_code</th>\n",
       "    </tr>\n",
       "  </thead>\n",
       "  <tbody>\n",
       "    <tr>\n",
       "      <th>0</th>\n",
       "      <td>862</td>\n",
       "      <td>177</td>\n",
       "      <td>4</td>\n",
       "      <td>25</td>\n",
       "      <td>M</td>\n",
       "      <td>executive</td>\n",
       "      <td>13820</td>\n",
       "    </tr>\n",
       "    <tr>\n",
       "      <th>1</th>\n",
       "      <td>862</td>\n",
       "      <td>416</td>\n",
       "      <td>3</td>\n",
       "      <td>25</td>\n",
       "      <td>M</td>\n",
       "      <td>executive</td>\n",
       "      <td>13820</td>\n",
       "    </tr>\n",
       "    <tr>\n",
       "      <th>2</th>\n",
       "      <td>862</td>\n",
       "      <td>1093</td>\n",
       "      <td>5</td>\n",
       "      <td>25</td>\n",
       "      <td>M</td>\n",
       "      <td>executive</td>\n",
       "      <td>13820</td>\n",
       "    </tr>\n",
       "    <tr>\n",
       "      <th>3</th>\n",
       "      <td>862</td>\n",
       "      <td>168</td>\n",
       "      <td>4</td>\n",
       "      <td>25</td>\n",
       "      <td>M</td>\n",
       "      <td>executive</td>\n",
       "      <td>13820</td>\n",
       "    </tr>\n",
       "    <tr>\n",
       "      <th>4</th>\n",
       "      <td>862</td>\n",
       "      <td>568</td>\n",
       "      <td>3</td>\n",
       "      <td>25</td>\n",
       "      <td>M</td>\n",
       "      <td>executive</td>\n",
       "      <td>13820</td>\n",
       "    </tr>\n",
       "    <tr>\n",
       "      <th>...</th>\n",
       "      <td>...</td>\n",
       "      <td>...</td>\n",
       "      <td>...</td>\n",
       "      <td>...</td>\n",
       "      <td>...</td>\n",
       "      <td>...</td>\n",
       "      <td>...</td>\n",
       "    </tr>\n",
       "    <tr>\n",
       "      <th>74995</th>\n",
       "      <td>107</td>\n",
       "      <td>340</td>\n",
       "      <td>5</td>\n",
       "      <td>39</td>\n",
       "      <td>M</td>\n",
       "      <td>scientist</td>\n",
       "      <td>60466</td>\n",
       "    </tr>\n",
       "    <tr>\n",
       "      <th>74996</th>\n",
       "      <td>107</td>\n",
       "      <td>321</td>\n",
       "      <td>2</td>\n",
       "      <td>39</td>\n",
       "      <td>M</td>\n",
       "      <td>scientist</td>\n",
       "      <td>60466</td>\n",
       "    </tr>\n",
       "    <tr>\n",
       "      <th>74997</th>\n",
       "      <td>107</td>\n",
       "      <td>271</td>\n",
       "      <td>2</td>\n",
       "      <td>39</td>\n",
       "      <td>M</td>\n",
       "      <td>scientist</td>\n",
       "      <td>60466</td>\n",
       "    </tr>\n",
       "    <tr>\n",
       "      <th>74998</th>\n",
       "      <td>107</td>\n",
       "      <td>322</td>\n",
       "      <td>1</td>\n",
       "      <td>39</td>\n",
       "      <td>M</td>\n",
       "      <td>scientist</td>\n",
       "      <td>60466</td>\n",
       "    </tr>\n",
       "    <tr>\n",
       "      <th>74999</th>\n",
       "      <td>107</td>\n",
       "      <td>312</td>\n",
       "      <td>4</td>\n",
       "      <td>39</td>\n",
       "      <td>M</td>\n",
       "      <td>scientist</td>\n",
       "      <td>60466</td>\n",
       "    </tr>\n",
       "  </tbody>\n",
       "</table>\n",
       "<p>75000 rows × 7 columns</p>\n",
       "</div>"
      ],
      "text/plain": [
       "       user_id  movie_id  rating  age sex occupation zip_code\n",
       "0          862       177       4   25   M  executive    13820\n",
       "1          862       416       3   25   M  executive    13820\n",
       "2          862      1093       5   25   M  executive    13820\n",
       "3          862       168       4   25   M  executive    13820\n",
       "4          862       568       3   25   M  executive    13820\n",
       "...        ...       ...     ...  ...  ..        ...      ...\n",
       "74995      107       340       5   39   M  scientist    60466\n",
       "74996      107       321       2   39   M  scientist    60466\n",
       "74997      107       271       2   39   M  scientist    60466\n",
       "74998      107       322       1   39   M  scientist    60466\n",
       "74999      107       312       4   39   M  scientist    60466\n",
       "\n",
       "[75000 rows x 7 columns]"
      ]
     },
     "execution_count": 21,
     "metadata": {},
     "output_type": "execute_result"
    }
   ],
   "source": [
    "merged_df = pd.merge(\n",
    "    X_train,\n",
    "    users,\n",
    "    left_on=\"user_id\",\n",
    "    right_index=True,\n",
    ").reset_index(drop=True)\n",
    "\n",
    "merged_df"
   ]
  },
  {
   "cell_type": "code",
   "execution_count": 22,
   "id": "853104aa-bcd8-42b1-8dd7-a7dd1f97ed8e",
   "metadata": {
    "execution": {
     "iopub.execute_input": "2023-06-12T02:51:57.547922Z",
     "iopub.status.busy": "2023-06-12T02:51:57.547922Z",
     "iopub.status.idle": "2023-06-12T02:51:57.577923Z",
     "shell.execute_reply": "2023-06-12T02:51:57.576923Z",
     "shell.execute_reply.started": "2023-06-12T02:51:57.547922Z"
    },
    "tags": []
   },
   "outputs": [],
   "source": [
    "gender_mean = (\n",
    "    merged_df[[\"movie_id\", \"sex\", \"rating\"]]\n",
    "    .groupby([\"movie_id\", \"sex\"])[\"rating\"]\n",
    "    .mean()\n",
    ")"
   ]
  },
  {
   "cell_type": "markdown",
   "id": "38f64bd7-0b59-461d-9b92-cc482c256e9a",
   "metadata": {},
   "source": [
    "## Using weighted mean rating and user gender"
   ]
  },
  {
   "cell_type": "code",
   "execution_count": 23,
   "id": "013e04dc-f004-4b0e-99fc-d299311f0e8b",
   "metadata": {
    "execution": {
     "iopub.execute_input": "2023-06-12T02:51:57.579923Z",
     "iopub.status.busy": "2023-06-12T02:51:57.578922Z",
     "iopub.status.idle": "2023-06-12T02:51:57.592923Z",
     "shell.execute_reply": "2023-06-12T02:51:57.591924Z",
     "shell.execute_reply.started": "2023-06-12T02:51:57.579923Z"
    },
    "tags": []
   },
   "outputs": [],
   "source": [
    "def cf_weighted_mean_gender(user_id, movie_id):\n",
    "    score = np.nan\n",
    "    gender = users.loc[user_id].sex\n",
    "\n",
    "    if (\n",
    "        movie_id in r_matrix.columns\n",
    "        and user_id in r_matrix.index\n",
    "        and gender in gender_mean[movie_id].index\n",
    "    ):\n",
    "        score = gender_mean[movie_id][gender]\n",
    "\n",
    "    return (\n",
    "        score\n",
    "        if not np.isnan(score)\n",
    "        else r_matrix[movie_id].mean()\n",
    "        if movie_id in r_matrix.columns\n",
    "        else r_matrix.mean().mean()\n",
    "    )"
   ]
  },
  {
   "cell_type": "code",
   "execution_count": 24,
   "id": "605f27ce-8cbd-45d0-a047-fbfe27920abd",
   "metadata": {
    "execution": {
     "iopub.execute_input": "2023-06-12T02:51:57.593924Z",
     "iopub.status.busy": "2023-06-12T02:51:57.593924Z",
     "iopub.status.idle": "2023-06-12T02:52:05.817107Z",
     "shell.execute_reply": "2023-06-12T02:52:05.816110Z",
     "shell.execute_reply.started": "2023-06-12T02:51:57.593924Z"
    },
    "tags": []
   },
   "outputs": [
    {
     "data": {
      "text/plain": [
       "1.0824333023843344"
      ]
     },
     "execution_count": 24,
     "metadata": {},
     "output_type": "execute_result"
    }
   ],
   "source": [
    "score(cf_weighted_mean_gender)"
   ]
  },
  {
   "cell_type": "markdown",
   "id": "470fef5a-c243-4da0-aff0-48535dd0aa35",
   "metadata": {},
   "source": [
    "## Using weighted mean rating, user gender and occupation"
   ]
  },
  {
   "cell_type": "code",
   "execution_count": 25,
   "id": "1b404537-67a9-443e-874e-edaa93464c6c",
   "metadata": {
    "execution": {
     "iopub.execute_input": "2023-06-12T02:52:05.818117Z",
     "iopub.status.busy": "2023-06-12T02:52:05.817107Z",
     "iopub.status.idle": "2023-06-12T02:52:05.849107Z",
     "shell.execute_reply": "2023-06-12T02:52:05.848113Z",
     "shell.execute_reply.started": "2023-06-12T02:52:05.818117Z"
    },
    "tags": []
   },
   "outputs": [
    {
     "data": {
      "text/html": [
       "<div>\n",
       "<style scoped>\n",
       "    .dataframe tbody tr th:only-of-type {\n",
       "        vertical-align: middle;\n",
       "    }\n",
       "\n",
       "    .dataframe tbody tr th {\n",
       "        vertical-align: top;\n",
       "    }\n",
       "\n",
       "    .dataframe thead th {\n",
       "        text-align: right;\n",
       "    }\n",
       "</style>\n",
       "<table border=\"1\" class=\"dataframe\">\n",
       "  <thead>\n",
       "    <tr style=\"text-align: right;\">\n",
       "      <th></th>\n",
       "      <th></th>\n",
       "      <th></th>\n",
       "      <th>rating</th>\n",
       "    </tr>\n",
       "    <tr>\n",
       "      <th>movie_id</th>\n",
       "      <th>sex</th>\n",
       "      <th>occupation</th>\n",
       "      <th></th>\n",
       "    </tr>\n",
       "  </thead>\n",
       "  <tbody>\n",
       "    <tr>\n",
       "      <th rowspan=\"5\" valign=\"top\">1</th>\n",
       "      <th rowspan=\"5\" valign=\"top\">F</th>\n",
       "      <th>administrator</th>\n",
       "      <td>3.9375</td>\n",
       "    </tr>\n",
       "    <tr>\n",
       "      <th>artist</th>\n",
       "      <td>5.0000</td>\n",
       "    </tr>\n",
       "    <tr>\n",
       "      <th>educator</th>\n",
       "      <td>3.2500</td>\n",
       "    </tr>\n",
       "    <tr>\n",
       "      <th>engineer</th>\n",
       "      <td>4.0000</td>\n",
       "    </tr>\n",
       "    <tr>\n",
       "      <th>entertainment</th>\n",
       "      <td>4.0000</td>\n",
       "    </tr>\n",
       "  </tbody>\n",
       "</table>\n",
       "</div>"
      ],
      "text/plain": [
       "                            rating\n",
       "movie_id sex occupation           \n",
       "1        F   administrator  3.9375\n",
       "             artist         5.0000\n",
       "             educator       3.2500\n",
       "             engineer       4.0000\n",
       "             entertainment  4.0000"
      ]
     },
     "execution_count": 25,
     "metadata": {},
     "output_type": "execute_result"
    }
   ],
   "source": [
    "gen_occ_mean = (\n",
    "    merged_df[[\"sex\", \"rating\", \"movie_id\", \"occupation\"]]\n",
    "    .groupby([\"movie_id\", \"sex\", \"occupation\"])\n",
    "    .mean()\n",
    ")\n",
    "\n",
    "gen_occ_mean.head()"
   ]
  },
  {
   "cell_type": "code",
   "execution_count": 40,
   "id": "0bca39c8-b0c1-4824-a9d4-42022e56fcf9",
   "metadata": {
    "execution": {
     "iopub.execute_input": "2023-06-12T02:54:16.349212Z",
     "iopub.status.busy": "2023-06-12T02:54:16.348212Z",
     "iopub.status.idle": "2023-06-12T02:54:16.359212Z",
     "shell.execute_reply": "2023-06-12T02:54:16.358211Z",
     "shell.execute_reply.started": "2023-06-12T02:54:16.349212Z"
    },
    "tags": []
   },
   "outputs": [],
   "source": [
    "def cf_weighted_mean_gender_occ(user_id, movie_id):\n",
    "    score = np.nan\n",
    "    gender = users.loc[user_id].sex\n",
    "    occ = users.loc[user_id].occupation\n",
    "\n",
    "    if (\n",
    "        movie_id in r_matrix.columns\n",
    "        and user_id in r_matrix.index\n",
    "        and gender in gen_occ_mean.loc[movie_id].index\n",
    "        and occ in gen_occ_mean.loc[movie_id, gender].index\n",
    "    ):\n",
    "        score = gen_occ_mean.loc[movie_id, gender, occ].values[0]\n",
    "\n",
    "    return (\n",
    "        score\n",
    "        if not np.isnan(score)\n",
    "        else r_matrix[movie_id].mean()\n",
    "        if movie_id in r_matrix.columns\n",
    "        else r_matrix.mean().mean()\n",
    "    )"
   ]
  },
  {
   "cell_type": "code",
   "execution_count": 41,
   "id": "30f57492-6b2e-4eb0-b3b1-fd6326859687",
   "metadata": {
    "execution": {
     "iopub.execute_input": "2023-06-12T02:54:17.141213Z",
     "iopub.status.busy": "2023-06-12T02:54:17.141213Z",
     "iopub.status.idle": "2023-06-12T02:54:34.270960Z",
     "shell.execute_reply": "2023-06-12T02:54:34.270960Z",
     "shell.execute_reply.started": "2023-06-12T02:54:17.141213Z"
    },
    "tags": []
   },
   "outputs": [
    {
     "data": {
      "text/plain": [
       "1.2766510116760388"
      ]
     },
     "execution_count": 41,
     "metadata": {},
     "output_type": "execute_result"
    }
   ],
   "source": [
    "score(cf_weighted_mean_gender_occ)"
   ]
  }
 ],
 "metadata": {
  "kernelspec": {
   "display_name": "Python (env)",
   "language": "python",
   "name": "env"
  },
  "language_info": {
   "codemirror_mode": {
    "name": "ipython",
    "version": 3
   },
   "file_extension": ".py",
   "mimetype": "text/x-python",
   "name": "python",
   "nbconvert_exporter": "python",
   "pygments_lexer": "ipython3",
   "version": "3.10.10"
  }
 },
 "nbformat": 4,
 "nbformat_minor": 5
}
