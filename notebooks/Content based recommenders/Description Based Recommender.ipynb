{
 "cells": [
  {
   "cell_type": "markdown",
   "id": "ef77eb18-18c8-4b0c-89b5-e3c869250a40",
   "metadata": {
    "tags": []
   },
   "source": [
    "## Description Based Recommender"
   ]
  },
  {
   "cell_type": "code",
   "execution_count": 1,
   "id": "9911142d-a91c-4490-9c06-e64512891f25",
   "metadata": {
    "execution": {
     "iopub.execute_input": "2023-06-12T03:00:59.995533Z",
     "iopub.status.busy": "2023-06-12T03:00:59.995533Z",
     "iopub.status.idle": "2023-06-12T03:01:00.907605Z",
     "shell.execute_reply": "2023-06-12T03:01:00.907605Z",
     "shell.execute_reply.started": "2023-06-12T03:00:59.995533Z"
    }
   },
   "outputs": [],
   "source": [
    "from ast import literal_eval\n",
    "\n",
    "import numpy as np\n",
    "import pandas as pd\n",
    "from nltk.corpus import stopwords\n",
    "from nltk.stem.wordnet import WordNetLemmatizer\n",
    "from nltk.tokenize import RegexpTokenizer\n",
    "from sklearn.feature_extraction.text import CountVectorizer, TfidfVectorizer\n",
    "from sklearn.metrics.pairwise import linear_kernel"
   ]
  },
  {
   "cell_type": "markdown",
   "id": "fabf5ab1-6f14-4f0e-a533-3a0ead6ab63d",
   "metadata": {},
   "source": [
    "using https://www.kaggle.com/datasets/rounakbanik/the-movies-dataset"
   ]
  },
  {
   "cell_type": "code",
   "execution_count": 2,
   "id": "fef916f0-cfcd-4116-bcec-6627cf9bb516",
   "metadata": {
    "execution": {
     "iopub.execute_input": "2023-06-12T03:01:00.909533Z",
     "iopub.status.busy": "2023-06-12T03:01:00.909533Z",
     "iopub.status.idle": "2023-06-12T03:01:01.350535Z",
     "shell.execute_reply": "2023-06-12T03:01:01.349618Z",
     "shell.execute_reply.started": "2023-06-12T03:01:00.909533Z"
    }
   },
   "outputs": [],
   "source": [
    "data = pd.read_csv(\n",
    "    \"../../data/movies_dataset_kaggle/movies_metadata.csv\",\n",
    "    low_memory=False,\n",
    ")"
   ]
  },
  {
   "cell_type": "code",
   "execution_count": 3,
   "id": "3c608dc3-5f92-4086-b211-e685316e2ff1",
   "metadata": {
    "execution": {
     "iopub.execute_input": "2023-06-12T03:01:01.351532Z",
     "iopub.status.busy": "2023-06-12T03:01:01.351532Z",
     "iopub.status.idle": "2023-06-12T03:01:01.413532Z",
     "shell.execute_reply": "2023-06-12T03:01:01.413532Z",
     "shell.execute_reply.started": "2023-06-12T03:01:01.351532Z"
    }
   },
   "outputs": [
    {
     "data": {
      "text/html": [
       "<div>\n",
       "<style scoped>\n",
       "    .dataframe tbody tr th:only-of-type {\n",
       "        vertical-align: middle;\n",
       "    }\n",
       "\n",
       "    .dataframe tbody tr th {\n",
       "        vertical-align: top;\n",
       "    }\n",
       "\n",
       "    .dataframe thead th {\n",
       "        text-align: right;\n",
       "    }\n",
       "</style>\n",
       "<table border=\"1\" class=\"dataframe\">\n",
       "  <thead>\n",
       "    <tr style=\"text-align: right;\">\n",
       "      <th></th>\n",
       "      <th>title</th>\n",
       "      <th>overview</th>\n",
       "    </tr>\n",
       "  </thead>\n",
       "  <tbody>\n",
       "    <tr>\n",
       "      <th>0</th>\n",
       "      <td>Toy Story</td>\n",
       "      <td>Led by Woody, Andy's toys live happily in his ...</td>\n",
       "    </tr>\n",
       "    <tr>\n",
       "      <th>1</th>\n",
       "      <td>Jumanji</td>\n",
       "      <td>When siblings Judy and Peter discover an encha...</td>\n",
       "    </tr>\n",
       "    <tr>\n",
       "      <th>2</th>\n",
       "      <td>Grumpier Old Men</td>\n",
       "      <td>A family wedding reignites the ancient feud be...</td>\n",
       "    </tr>\n",
       "    <tr>\n",
       "      <th>3</th>\n",
       "      <td>Waiting to Exhale</td>\n",
       "      <td>Cheated on, mistreated and stepped on, the wom...</td>\n",
       "    </tr>\n",
       "    <tr>\n",
       "      <th>4</th>\n",
       "      <td>Father of the Bride Part II</td>\n",
       "      <td>Just when George Banks has recovered from his ...</td>\n",
       "    </tr>\n",
       "    <tr>\n",
       "      <th>...</th>\n",
       "      <td>...</td>\n",
       "      <td>...</td>\n",
       "    </tr>\n",
       "    <tr>\n",
       "      <th>45461</th>\n",
       "      <td>Subdue</td>\n",
       "      <td>Rising and falling between a man and woman.</td>\n",
       "    </tr>\n",
       "    <tr>\n",
       "      <th>45462</th>\n",
       "      <td>Century of Birthing</td>\n",
       "      <td>An artist struggles to finish his work while a...</td>\n",
       "    </tr>\n",
       "    <tr>\n",
       "      <th>45463</th>\n",
       "      <td>Betrayal</td>\n",
       "      <td>When one of her hits goes wrong, a professiona...</td>\n",
       "    </tr>\n",
       "    <tr>\n",
       "      <th>45464</th>\n",
       "      <td>Satan Triumphant</td>\n",
       "      <td>In a small town live two brothers, one a minis...</td>\n",
       "    </tr>\n",
       "    <tr>\n",
       "      <th>45465</th>\n",
       "      <td>Queerama</td>\n",
       "      <td>50 years after decriminalisation of homosexual...</td>\n",
       "    </tr>\n",
       "  </tbody>\n",
       "</table>\n",
       "<p>45466 rows × 2 columns</p>\n",
       "</div>"
      ],
      "text/plain": [
       "                             title   \n",
       "0                        Toy Story  \\\n",
       "1                          Jumanji   \n",
       "2                 Grumpier Old Men   \n",
       "3                Waiting to Exhale   \n",
       "4      Father of the Bride Part II   \n",
       "...                            ...   \n",
       "45461                       Subdue   \n",
       "45462          Century of Birthing   \n",
       "45463                     Betrayal   \n",
       "45464             Satan Triumphant   \n",
       "45465                     Queerama   \n",
       "\n",
       "                                                overview  \n",
       "0      Led by Woody, Andy's toys live happily in his ...  \n",
       "1      When siblings Judy and Peter discover an encha...  \n",
       "2      A family wedding reignites the ancient feud be...  \n",
       "3      Cheated on, mistreated and stepped on, the wom...  \n",
       "4      Just when George Banks has recovered from his ...  \n",
       "...                                                  ...  \n",
       "45461        Rising and falling between a man and woman.  \n",
       "45462  An artist struggles to finish his work while a...  \n",
       "45463  When one of her hits goes wrong, a professiona...  \n",
       "45464  In a small town live two brothers, one a minis...  \n",
       "45465  50 years after decriminalisation of homosexual...  \n",
       "\n",
       "[45466 rows x 2 columns]"
      ]
     },
     "execution_count": 3,
     "metadata": {},
     "output_type": "execute_result"
    }
   ],
   "source": [
    "data[[\"title\", \"overview\"]]"
   ]
  },
  {
   "cell_type": "code",
   "execution_count": 4,
   "id": "48254f1b-4e66-4b2e-958b-fcef4a61cc3c",
   "metadata": {
    "execution": {
     "iopub.execute_input": "2023-06-12T03:01:01.415532Z",
     "iopub.status.busy": "2023-06-12T03:01:01.414533Z",
     "iopub.status.idle": "2023-06-12T03:01:01.430537Z",
     "shell.execute_reply": "2023-06-12T03:01:01.429537Z",
     "shell.execute_reply.started": "2023-06-12T03:01:01.415532Z"
    }
   },
   "outputs": [],
   "source": [
    "lemmatizer = WordNetLemmatizer()\n",
    "tokenizer = RegexpTokenizer(r\"\\w+\")\n",
    "stopwords_ = stopwords.words(\"english\")\n",
    "tfidf = TfidfVectorizer()"
   ]
  },
  {
   "cell_type": "code",
   "execution_count": 5,
   "id": "4c592ae2-4aae-449a-b202-27cd257c80d8",
   "metadata": {
    "execution": {
     "iopub.execute_input": "2023-06-12T03:01:01.431537Z",
     "iopub.status.busy": "2023-06-12T03:01:01.431537Z",
     "iopub.status.idle": "2023-06-12T03:01:01.446534Z",
     "shell.execute_reply": "2023-06-12T03:01:01.445540Z",
     "shell.execute_reply.started": "2023-06-12T03:01:01.431537Z"
    }
   },
   "outputs": [],
   "source": [
    "def clean(text):\n",
    "    return \" \".join(\n",
    "        [\n",
    "            lemmatizer.lemmatize(i)\n",
    "            for i in tokenizer.tokenize(text.lower())\n",
    "            if i not in stopwords_\n",
    "        ]\n",
    "    )"
   ]
  },
  {
   "cell_type": "code",
   "execution_count": 6,
   "id": "0158f1b9-6a0b-4017-9b5f-1baf41a1e1cb",
   "metadata": {
    "execution": {
     "iopub.execute_input": "2023-06-12T03:01:01.447535Z",
     "iopub.status.busy": "2023-06-12T03:01:01.447535Z",
     "iopub.status.idle": "2023-06-12T03:01:10.522837Z",
     "shell.execute_reply": "2023-06-12T03:01:10.521837Z",
     "shell.execute_reply.started": "2023-06-12T03:01:01.447535Z"
    }
   },
   "outputs": [
    {
     "data": {
      "text/plain": [
       "0        led woody andy toy live happily room andy birt...\n",
       "1        sibling judy peter discover enchanted board ga...\n",
       "2        family wedding reignites ancient feud next doo...\n",
       "3        cheated mistreated stepped woman holding breat...\n",
       "4        george bank recovered daughter wedding receive...\n",
       "                               ...                        \n",
       "45461                             rising falling man woman\n",
       "45462    artist struggle finish work storyline cult pla...\n",
       "45463    one hit go wrong professional assassin end sui...\n",
       "45464    small town live two brother one minister one h...\n",
       "45465    50 year decriminalisation homosexuality uk dir...\n",
       "Name: overview, Length: 45466, dtype: object"
      ]
     },
     "execution_count": 6,
     "metadata": {},
     "output_type": "execute_result"
    }
   ],
   "source": [
    "desc_cleaned = data.overview.fillna(\"\").apply(clean)\n",
    "desc_cleaned"
   ]
  },
  {
   "cell_type": "code",
   "execution_count": 7,
   "id": "89a60f6b-b8d3-4975-8874-f6ec3a890cc6",
   "metadata": {
    "execution": {
     "iopub.execute_input": "2023-06-12T03:01:10.524837Z",
     "iopub.status.busy": "2023-06-12T03:01:10.523854Z",
     "iopub.status.idle": "2023-06-12T03:01:48.373260Z",
     "shell.execute_reply": "2023-06-12T03:01:48.368260Z",
     "shell.execute_reply.started": "2023-06-12T03:01:10.524837Z"
    }
   },
   "outputs": [],
   "source": [
    "tfidf_matrix = tfidf.fit_transform(desc_cleaned)\n",
    "cosine_sim = linear_kernel(tfidf_matrix, tfidf_matrix)"
   ]
  },
  {
   "cell_type": "code",
   "execution_count": 8,
   "id": "a99a6d1a-d58a-4e10-8fba-1d89552e2bb6",
   "metadata": {
    "execution": {
     "iopub.execute_input": "2023-06-12T03:01:48.383262Z",
     "iopub.status.busy": "2023-06-12T03:01:48.381263Z",
     "iopub.status.idle": "2023-06-12T03:01:48.400262Z",
     "shell.execute_reply": "2023-06-12T03:01:48.399261Z",
     "shell.execute_reply.started": "2023-06-12T03:01:48.383262Z"
    }
   },
   "outputs": [],
   "source": [
    "def get_recommendations(title, n=10):\n",
    "    titles = data.title\n",
    "    idx = titles.where(titles == title).first_valid_index()\n",
    "\n",
    "    return titles.iloc[np.argsort(cosine_sim[idx])[-2::-1][:n]]"
   ]
  },
  {
   "cell_type": "code",
   "execution_count": 9,
   "id": "68f54db4-b790-48d3-9d0e-a45476ff8e07",
   "metadata": {
    "execution": {
     "iopub.execute_input": "2023-06-12T03:01:48.402261Z",
     "iopub.status.busy": "2023-06-12T03:01:48.401261Z",
     "iopub.status.idle": "2023-06-12T03:01:48.448261Z",
     "shell.execute_reply": "2023-06-12T03:01:48.447260Z",
     "shell.execute_reply.started": "2023-06-12T03:01:48.402261Z"
    }
   },
   "outputs": [
    {
     "data": {
      "text/plain": [
       "15348                                     Toy Story 3\n",
       "2997                                      Toy Story 2\n",
       "24523                                       Small Fry\n",
       "10301                          The 40 Year Old Virgin\n",
       "23843                     Andy Hardy's Blonde Trouble\n",
       "29202                                      Hot Splash\n",
       "43427                Andy Kaufman Plays Carnegie Hall\n",
       "38476    Superstar: The Life and Times of Andy Warhol\n",
       "42721    Andy Peters: Exclamation Mark Question Point\n",
       "8327                                        The Champ\n",
       "Name: title, dtype: object"
      ]
     },
     "execution_count": 9,
     "metadata": {},
     "output_type": "execute_result"
    }
   ],
   "source": [
    "get_recommendations(\"Toy Story\")"
   ]
  },
  {
   "cell_type": "code",
   "execution_count": null,
   "id": "374bf002-8e7e-4f59-ae3b-91663c4cf624",
   "metadata": {},
   "outputs": [],
   "source": []
  }
 ],
 "metadata": {
  "kernelspec": {
   "display_name": "Python (env)",
   "language": "python",
   "name": "env"
  },
  "language_info": {
   "codemirror_mode": {
    "name": "ipython",
    "version": 3
   },
   "file_extension": ".py",
   "mimetype": "text/x-python",
   "name": "python",
   "nbconvert_exporter": "python",
   "pygments_lexer": "ipython3",
   "version": "3.10.10"
  }
 },
 "nbformat": 4,
 "nbformat_minor": 5
}
